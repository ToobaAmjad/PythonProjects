{
  "cells": [
    {
      "cell_type": "markdown",
      "id": "2a4550df",
      "metadata": {
        "id": "2a4550df"
      },
      "source": [
        "# NUMPY"
      ]
    },
    {
      "cell_type": "markdown",
      "id": "40b13f19",
      "metadata": {
        "id": "40b13f19"
      },
      "source": [
        "![](numpy1.png)"
      ]
    },
    {
      "cell_type": "markdown",
      "id": "f324dc9b",
      "metadata": {
        "id": "f324dc9b"
      },
      "source": [
        "### Numpy is the core library for scientific computing in Python. It provides a high-performance multidimensional array object, and tools for working with these arrays."
      ]
    },
    {
      "cell_type": "markdown",
      "id": "0f3a1036",
      "metadata": {
        "id": "0f3a1036"
      },
      "source": [
        "#### A numpy array is a grid of values, all of the same type. \n",
        "#### The number of dimensions is the rank of the array; \n",
        "#### The shape of an array is a tuple of integers giving the size of the array along each dimension."
      ]
    },
    {
      "cell_type": "markdown",
      "id": "08ff5c5a",
      "metadata": {
        "id": "08ff5c5a"
      },
      "source": [
        "![](numpy.png)"
      ]
    },
    {
      "cell_type": "code",
      "execution_count": null,
      "id": "45a82e53",
      "metadata": {
        "id": "45a82e53"
      },
      "outputs": [],
      "source": [
        "import numpy as np"
      ]
    },
    {
      "cell_type": "code",
      "execution_count": null,
      "id": "90d8c993",
      "metadata": {
        "id": "90d8c993",
        "outputId": "56fbcd2c-5839-4a56-cafb-ae75a91daa9c"
      },
      "outputs": [
        {
          "name": "stdout",
          "output_type": "stream",
          "text": [
            "0\n",
            "1\n",
            "2\n",
            "3\n",
            "[[[1 2 3]\n",
            "  [4 5 6]]\n",
            "\n",
            " [[1 2 3]\n",
            "  [4 5 6]]]\n",
            "<class 'numpy.ndarray'>\n",
            "[[1 2 3]\n",
            " [4 5 6]]\n",
            "(2, 2, 3)\n"
          ]
        }
      ],
      "source": [
        "a = np.array(42)\n",
        "b = np.array([1, 2, 3, 4, 5])\n",
        "c = np.array([[1, 2, 3], [4, 5, 6]])\n",
        "d = np.array([[[1, 2, 3], [4, 5, 6]], [[1, 2, 3], [4, 5, 6]]])\n",
        "\n",
        "print(a.ndim)\n",
        "print(b.ndim)\n",
        "print(c.ndim)\n",
        "print(d.ndim)\n",
        "print(d)\n",
        "print(type(a))\n",
        "print(c)\n",
        "print(d.shape)"
      ]
    },
    {
      "cell_type": "markdown",
      "id": "eeb608fd",
      "metadata": {
        "id": "eeb608fd"
      },
      "source": [
        "##### Creating 1D array"
      ]
    },
    {
      "cell_type": "code",
      "execution_count": null,
      "id": "990d2ade",
      "metadata": {
        "id": "990d2ade",
        "outputId": "53874920-5531-4266-cadc-79252a6f10f0"
      },
      "outputs": [
        {
          "data": {
            "text/plain": [
              "array([1, 2, 3])"
            ]
          },
          "execution_count": 6,
          "metadata": {},
          "output_type": "execute_result"
        }
      ],
      "source": [
        "a = np.array([1, 2, 3])   \n",
        "a          "
      ]
    },
    {
      "cell_type": "markdown",
      "id": "d970bdb2",
      "metadata": {
        "id": "d970bdb2"
      },
      "source": [
        "##### Type & Shape"
      ]
    },
    {
      "cell_type": "code",
      "execution_count": null,
      "id": "b0378415",
      "metadata": {
        "id": "b0378415",
        "outputId": "f4d73723-ac2c-4cab-ec3d-ced1d4172af3"
      },
      "outputs": [
        {
          "name": "stdout",
          "output_type": "stream",
          "text": [
            "<class 'numpy.ndarray'>\n",
            "(3,)\n"
          ]
        }
      ],
      "source": [
        "print(type(a)) \n",
        "print(a.shape)            "
      ]
    },
    {
      "cell_type": "code",
      "execution_count": null,
      "id": "5af16e4b",
      "metadata": {
        "id": "5af16e4b",
        "outputId": "703383b2-04e4-46cb-f523-18bae6d499c2"
      },
      "outputs": [
        {
          "name": "stdout",
          "output_type": "stream",
          "text": [
            "1 3\n"
          ]
        }
      ],
      "source": [
        "print(a[0], a[2])   "
      ]
    },
    {
      "cell_type": "markdown",
      "id": "ad247ce9",
      "metadata": {
        "id": "ad247ce9"
      },
      "source": [
        "##### Changing array element"
      ]
    },
    {
      "cell_type": "code",
      "execution_count": null,
      "id": "71f7352b",
      "metadata": {
        "id": "71f7352b",
        "outputId": "af378e70-1c2d-401a-ab6b-f972dbeecea3"
      },
      "outputs": [
        {
          "name": "stdout",
          "output_type": "stream",
          "text": [
            "5\n"
          ]
        }
      ],
      "source": [
        "a[0] = 5                  \n",
        "print(a[0])                  "
      ]
    },
    {
      "cell_type": "markdown",
      "id": "b469c790",
      "metadata": {
        "id": "b469c790"
      },
      "source": [
        "##### Creating 2D array"
      ]
    },
    {
      "cell_type": "code",
      "execution_count": null,
      "id": "4fd80492",
      "metadata": {
        "id": "4fd80492",
        "outputId": "4cad22bb-fc32-47a5-d9e4-68acf466b9cb"
      },
      "outputs": [
        {
          "name": "stdout",
          "output_type": "stream",
          "text": [
            "(2, 3)\n",
            "1 2 4\n",
            "[[1 2 3]\n",
            " [4 5 6]]\n"
          ]
        }
      ],
      "source": [
        "b = np.array([[1,2,3],[4,5,6]])    \n",
        "print(b.shape)                     \n",
        "print(b[0, 0], b[0, 1], b[1, 0]) \n",
        "print(b)"
      ]
    },
    {
      "cell_type": "markdown",
      "id": "6c0757c0",
      "metadata": {
        "id": "6c0757c0"
      },
      "source": [
        "##### Create an array of all zeros"
      ]
    },
    {
      "cell_type": "code",
      "execution_count": null,
      "id": "404fd296",
      "metadata": {
        "id": "404fd296",
        "outputId": "46cb75ac-6c2c-4603-9f70-0713619c45e1"
      },
      "outputs": [
        {
          "name": "stdout",
          "output_type": "stream",
          "text": [
            "[[0. 0. 0. 0.]\n",
            " [0. 0. 0. 0.]\n",
            " [0. 0. 0. 0.]]\n",
            "float64\n"
          ]
        }
      ],
      "source": [
        "a = np.zeros((3,4))   \n",
        "print(a)       \n",
        "print(a.dtype)         "
      ]
    },
    {
      "cell_type": "markdown",
      "id": "5337e9a3",
      "metadata": {
        "id": "5337e9a3"
      },
      "source": [
        "##### Create an array of all ones"
      ]
    },
    {
      "cell_type": "code",
      "execution_count": null,
      "id": "3a8e09c6",
      "metadata": {
        "id": "3a8e09c6",
        "outputId": "42339236-f1c1-4bea-ff9e-b019aaee9de3"
      },
      "outputs": [
        {
          "name": "stdout",
          "output_type": "stream",
          "text": [
            "[[1. 1.]]\n"
          ]
        }
      ],
      "source": [
        "b = np.ones((1,2))    \n",
        "print(b)              "
      ]
    },
    {
      "cell_type": "markdown",
      "id": "592eeabb",
      "metadata": {
        "id": "592eeabb"
      },
      "source": [
        "##### Create a constant array"
      ]
    },
    {
      "cell_type": "code",
      "execution_count": null,
      "id": "fde3e1f4",
      "metadata": {
        "id": "fde3e1f4",
        "outputId": "04953056-0c3f-4ae0-d5b8-f92a25e3df69"
      },
      "outputs": [
        {
          "name": "stdout",
          "output_type": "stream",
          "text": [
            "[[7 7]\n",
            " [7 7]]\n",
            "int32\n"
          ]
        }
      ],
      "source": [
        "c = np.full((2,2), 7)   \n",
        "print(c)\n",
        "print(c.dtype)         "
      ]
    },
    {
      "cell_type": "markdown",
      "id": "fd8b944b",
      "metadata": {
        "id": "fd8b944b"
      },
      "source": [
        "##### Create a 2x2 identity matrix"
      ]
    },
    {
      "cell_type": "code",
      "execution_count": null,
      "id": "9e051170",
      "metadata": {
        "id": "9e051170",
        "outputId": "3496243f-2407-4c03-b9f6-927f0e57bdbe"
      },
      "outputs": [
        {
          "name": "stdout",
          "output_type": "stream",
          "text": [
            "[[1. 0. 0. 0.]\n",
            " [0. 1. 0. 0.]\n",
            " [0. 0. 1. 0.]\n",
            " [0. 0. 0. 1.]]\n",
            "float64\n"
          ]
        }
      ],
      "source": [
        "d = np.eye(4)          \n",
        "print(d) \n",
        "print(d.dtype) "
      ]
    },
    {
      "cell_type": "markdown",
      "id": "473b0cdb",
      "metadata": {
        "id": "473b0cdb"
      },
      "source": [
        "##### Create an array filled with random values"
      ]
    },
    {
      "cell_type": "code",
      "execution_count": null,
      "id": "277890b6",
      "metadata": {
        "id": "277890b6",
        "outputId": "73dd05cc-171a-42f6-dd3e-70c0311691b1"
      },
      "outputs": [
        {
          "name": "stdout",
          "output_type": "stream",
          "text": [
            "[[0.53596361 0.61730486]\n",
            " [0.38339258 0.12940171]]\n"
          ]
        }
      ],
      "source": [
        "e = np.random.random((2,2))   \n",
        "print(e)                     "
      ]
    },
    {
      "cell_type": "markdown",
      "id": "1daa49ce",
      "metadata": {
        "id": "1daa49ce"
      },
      "source": [
        "### Array indexing"
      ]
    },
    {
      "cell_type": "markdown",
      "id": "e615ef33",
      "metadata": {
        "id": "e615ef33"
      },
      "source": [
        "#### Numpy offers several ways to index into arrays.\n",
        "\n",
        "#### Slicing: Similar to Python lists, numpy arrays can be sliced. Since arrays may be multidimensional, you must specify a slice for each dimension of the array:"
      ]
    },
    {
      "cell_type": "markdown",
      "id": "1f2b7627",
      "metadata": {
        "id": "1f2b7627"
      },
      "source": [
        "##### Create the following rank 2 array with shape (3, 4)"
      ]
    },
    {
      "cell_type": "code",
      "execution_count": null,
      "id": "52259ae2",
      "metadata": {
        "id": "52259ae2"
      },
      "outputs": [],
      "source": [
        "a = np.array([[1,2,3,4], [5,6,7,8], [9,10,11,12]])\n",
        "a"
      ]
    },
    {
      "cell_type": "code",
      "execution_count": null,
      "id": "f253044c",
      "metadata": {
        "id": "f253044c"
      },
      "outputs": [],
      "source": [
        "# Use slicing to pull out the subarray consisting of the first 2 rows\n",
        "# and columns 1 and 2; b is the following array of shape (2, 2):\n",
        "b = a[:2, 1:3]\n",
        "print(b)\n"
      ]
    },
    {
      "cell_type": "code",
      "execution_count": null,
      "id": "7caf898d",
      "metadata": {
        "id": "7caf898d"
      },
      "outputs": [],
      "source": [
        "# A slice of an array is a view into the same data, so modifying it\n",
        "# will modify the original array.\n",
        "a = np.array([[1,2,3,4], [5,6,7,8], [9,10,11,12]])\n",
        "c = a[:2, 1:3]\n",
        "print(c)\n",
        "c[0, 0] = 77     \n",
        "print(c[0, 0])"
      ]
    },
    {
      "cell_type": "code",
      "execution_count": null,
      "id": "f41efc3a",
      "metadata": {
        "id": "f41efc3a"
      },
      "outputs": [],
      "source": [
        "# Create the following rank 2 array with shape (3, 4)\n",
        "a = np.array([[1,2,3,4], [5,6,7,8], [9,10,11,12]])\n",
        "a"
      ]
    },
    {
      "cell_type": "code",
      "execution_count": null,
      "id": "d829ab53",
      "metadata": {
        "id": "d829ab53"
      },
      "outputs": [],
      "source": [
        "# Two ways of accessing the data in the middle row of the array.\n",
        "# Mixing integer indexing with slices yields an array of lower rank,\n",
        "# while using only slices yields an array of the same rank as the\n",
        "# original array:\n",
        "row_r1 = a[1, :]    # Rank 1 view of the second row of a\n",
        "row_r2 = a[1:2, :]  # Rank 2 view of the second row of a\n",
        "print(row_r1, row_r1.shape)  \n",
        "print(row_r2, row_r2.shape)  "
      ]
    },
    {
      "cell_type": "code",
      "execution_count": null,
      "id": "276e4ece",
      "metadata": {
        "id": "276e4ece"
      },
      "outputs": [],
      "source": [
        "# We can make the same distinction when accessing columns of an array:\n",
        "col_r1 = a[:, 1]\n",
        "col_r2 = a[:, 1:2]\n",
        "print(col_r1, col_r1.shape)  \n",
        "print(col_r2, col_r2.shape)  "
      ]
    },
    {
      "cell_type": "markdown",
      "id": "921a4166",
      "metadata": {
        "id": "921a4166"
      },
      "source": [
        "### Datatypes"
      ]
    },
    {
      "cell_type": "markdown",
      "id": "1f9e5747",
      "metadata": {
        "id": "1f9e5747"
      },
      "source": [
        "#### Every numpy array is a grid of elements of the same type. \n",
        "#### Numpy provides a large set of numeric datatypes that you can use to construct arrays. \n",
        "#### Numpy tries to guess a datatype when you create an array, but functions that construct arrays usually also include an optional argument to explicitly specify the datatype."
      ]
    },
    {
      "cell_type": "code",
      "execution_count": null,
      "id": "160e0ba9",
      "metadata": {
        "id": "160e0ba9"
      },
      "outputs": [],
      "source": [
        "x = np.array([1, 2.0])   \n",
        "print(x.dtype)         \n",
        "\n",
        "x = np.array([1.0, 2.0])   \n",
        "print(x.dtype)             \n",
        "\n",
        "x = np.array([True, 2.5], dtype=np.int64)   \n",
        "print(x.dtype) \n",
        "print(x)"
      ]
    },
    {
      "cell_type": "markdown",
      "id": "9584c813",
      "metadata": {
        "id": "9584c813"
      },
      "source": [
        "### Array math"
      ]
    },
    {
      "cell_type": "code",
      "execution_count": null,
      "id": "2a0f0794",
      "metadata": {
        "id": "2a0f0794",
        "outputId": "714d4545-91e6-4931-98d7-97715ecaf3cd"
      },
      "outputs": [
        {
          "name": "stdout",
          "output_type": "stream",
          "text": [
            "[[ 6.  8.]\n",
            " [10. 12.]]\n",
            "[[ 6.  8.]\n",
            " [10. 12.]]\n"
          ]
        }
      ],
      "source": [
        "x = np.array([[1,2],[3,4]], dtype=np.float64)\n",
        "y = np.array([[5,6],[7,8]], dtype=np.float64)\n",
        "#x = np.array([[1,2],[3,4]])\n",
        "#y = np.array([[5,6],[7,8]])\n",
        "# Elementwise sum; both produce the array\n",
        "#print(x)\n",
        "print(x + y)\n",
        "\n",
        "print(np.add(x, y))"
      ]
    },
    {
      "cell_type": "code",
      "execution_count": null,
      "id": "f4c9539a",
      "metadata": {
        "id": "f4c9539a",
        "outputId": "adf3032a-ac1a-481d-bd81-1f7f349b723c"
      },
      "outputs": [
        {
          "name": "stdout",
          "output_type": "stream",
          "text": [
            "[[-4. -4.]\n",
            " [-4. -4.]]\n",
            "[[-4. -4.]\n",
            " [-4. -4.]]\n"
          ]
        }
      ],
      "source": [
        "# Elementwise difference; both produce the array\n",
        "\n",
        "print(x - y)\n",
        "print(np.subtract(x, y))"
      ]
    },
    {
      "cell_type": "markdown",
      "id": "fed4b5cb",
      "metadata": {
        "id": "fed4b5cb"
      },
      "source": [
        "![](numpy-matrix-product.png)"
      ]
    },
    {
      "cell_type": "code",
      "execution_count": null,
      "id": "e79ff51c",
      "metadata": {
        "id": "e79ff51c",
        "outputId": "6534c1cc-eeb0-495c-e06f-3fd3ac2dc8ba"
      },
      "outputs": [
        {
          "name": "stdout",
          "output_type": "stream",
          "text": [
            "[[ 5. 12.]\n",
            " [21. 32.]]\n",
            "[[ 5. 12.]\n",
            " [21. 32.]]\n",
            "[[19. 22.]\n",
            " [43. 50.]]\n"
          ]
        }
      ],
      "source": [
        "# Elementwise product; both produce the array\n",
        "x = np.array([[1,2],[3,4]], dtype=np.float64)\n",
        "y = np.array([[5,6],[7,8]], dtype=np.float64)\n",
        "\n",
        "print(x * y)\n",
        "print(np.multiply(x, y))\n",
        "\n",
        "#print(np.dot(x,y))\n",
        "print(np.matmul(x,y))"
      ]
    },
    {
      "cell_type": "code",
      "execution_count": null,
      "id": "055f73a5",
      "metadata": {
        "id": "055f73a5",
        "outputId": "69783efe-0b05-4634-e1a3-10b4c256c0b8"
      },
      "outputs": [
        {
          "name": "stdout",
          "output_type": "stream",
          "text": [
            "[[0.2        0.33333333]\n",
            " [0.42857143 0.5       ]]\n",
            "[[0.2        0.33333333]\n",
            " [0.42857143 0.5       ]]\n"
          ]
        }
      ],
      "source": [
        "# Elementwise division; both produce the array\n",
        "\n",
        "print(x / y)\n",
        "print(np.divide(x, y))"
      ]
    },
    {
      "cell_type": "code",
      "execution_count": null,
      "id": "97a66dac",
      "metadata": {
        "id": "97a66dac",
        "outputId": "96146b45-0515-420e-9254-0ad534684cb8"
      },
      "outputs": [
        {
          "name": "stdout",
          "output_type": "stream",
          "text": [
            "[[1.         1.41421356]\n",
            " [1.73205081 2.        ]]\n"
          ]
        }
      ],
      "source": [
        "# Elementwise square root; produces the array\n",
        "x = np.array([[1,2],[3,4]], dtype=np.float64)\n",
        "print(np.sqrt(x))"
      ]
    },
    {
      "cell_type": "markdown",
      "id": "4250952b",
      "metadata": {
        "id": "4250952b"
      },
      "source": [
        "##### Assigning x,y,v&w"
      ]
    },
    {
      "cell_type": "code",
      "execution_count": null,
      "id": "7bd915e8",
      "metadata": {
        "id": "7bd915e8"
      },
      "outputs": [],
      "source": [
        "x = np.array([[1,2],[3,4]])\n",
        "y = np.array([[5,6],[7,8]])\n",
        "\n",
        "v = np.array([5,10])\n",
        "w = np.array([11, 4])"
      ]
    },
    {
      "cell_type": "code",
      "execution_count": null,
      "id": "1c5fb0f0",
      "metadata": {
        "id": "1c5fb0f0"
      },
      "outputs": [],
      "source": [
        "# Inner product of vectors\n",
        "print(v.dot(w))\n",
        "print(np.dot(v, w))"
      ]
    },
    {
      "cell_type": "code",
      "execution_count": null,
      "id": "200c44fb",
      "metadata": {
        "id": "200c44fb"
      },
      "outputs": [],
      "source": [
        "# Matrix / vector product; both produce the 1D array [29 67]\n",
        "print(x.dot(v))\n",
        "print(np.dot(x, v))"
      ]
    },
    {
      "cell_type": "code",
      "execution_count": null,
      "id": "426f4b3f",
      "metadata": {
        "id": "426f4b3f"
      },
      "outputs": [],
      "source": [
        "# Matrix / matrix product; both produce the 2D array\n",
        "\n",
        "print(x.dot(y))\n",
        "print(np.dot(x, y))"
      ]
    },
    {
      "cell_type": "markdown",
      "id": "e2cb7d76",
      "metadata": {
        "id": "e2cb7d76"
      },
      "source": [
        "### SUM FUNCTION"
      ]
    },
    {
      "cell_type": "code",
      "execution_count": null,
      "id": "ecbabd9e",
      "metadata": {
        "id": "ecbabd9e"
      },
      "outputs": [],
      "source": [
        "x = np.array([[1,2],[3,4]])\n",
        "\n",
        "print(np.sum(x))  # Compute sum of all elements; \n",
        "print(np.sum(x, axis=0))  # Compute sum of each column; \n",
        "print(np.sum(x, axis=1))  # Compute sum of each row; "
      ]
    },
    {
      "cell_type": "markdown",
      "id": "38716b7d",
      "metadata": {
        "id": "38716b7d"
      },
      "source": [
        "## Arithmetic Operations:"
      ]
    },
    {
      "cell_type": "markdown",
      "id": "632a5118",
      "metadata": {
        "id": "632a5118"
      },
      "source": [
        "#### Addition: np.add(a,b)\n",
        "#### Subtraction:np.subtract(a,b)\n",
        "#### Multiplication: np.multiply(a,b)\n",
        "#### Division: np.divide(a,b)\n",
        "#### Exponentiation: np.exp(a)\n",
        "#### Square Root: np.sqrt(b)\n"
      ]
    },
    {
      "cell_type": "markdown",
      "id": "fc0be485",
      "metadata": {
        "id": "fc0be485"
      },
      "source": [
        "### Comparison\n",
        "#### Element-wise: a==b\n",
        "#### Array-wise: np.array_equal(a,b)"
      ]
    },
    {
      "cell_type": "markdown",
      "id": "ffb6f001",
      "metadata": {
        "id": "ffb6f001"
      },
      "source": [
        "### Copying:\n",
        "#### np.copy(array) – Copies array to new memory array.\n",
        "#### view(dtype) – Creates view of array elements with typedtype"
      ]
    },
    {
      "cell_type": "markdown",
      "id": "9c03932d",
      "metadata": {
        "id": "9c03932d"
      },
      "source": [
        "### Sorting:\n",
        "#### array.sort() – Sorts array\n",
        "#### array.sort(axis=0) – Sorts specific axis of array\n",
        "#### array.reshape(2,3) – Reshapes array to 2 rows, 3 columns without changing data."
      ]
    },
    {
      "cell_type": "markdown",
      "id": "159f2973",
      "metadata": {
        "id": "159f2973"
      },
      "source": [
        "### Adding:\n",
        "#### np.append(array,values) – Appends values to end of array\n",
        "#### np.insert(array,4,values) – Inserts values into array before index 4"
      ]
    },
    {
      "cell_type": "markdown",
      "id": "49709b07",
      "metadata": {
        "id": "49709b07"
      },
      "source": [
        "### Removing:\n",
        "#### np.delete(array,2,axis=0) – Deletes row on index 2 of array\n",
        "#### np.delete(array,3,axis=1) – Deletes column on index 3 of array"
      ]
    },
    {
      "cell_type": "markdown",
      "id": "f923d9fa",
      "metadata": {
        "id": "f923d9fa"
      },
      "source": [
        "### Combining:\n",
        "#### np.concatenate((array1,array2),axis=0) – Adds array2 as rows to the end of array1\n",
        "#### np.concatenate((array1,array2),axis=1) – Adds array2 as columns to end of array1"
      ]
    },
    {
      "cell_type": "markdown",
      "id": "fe6997a0",
      "metadata": {
        "id": "fe6997a0"
      },
      "source": [
        "### Splitting:\n",
        "#### np.split(array,3) – Splits array into 3sub-arrays"
      ]
    },
    {
      "cell_type": "markdown",
      "id": "3940c57f",
      "metadata": {
        "id": "3940c57f"
      },
      "source": [
        "### Indexing:\n",
        "#### a[0]=5 – Assigns array element on index 0 the value 5\n",
        "#### a[2,3]=1 – Assigns array element on index [2][3] the value 1"
      ]
    },
    {
      "cell_type": "markdown",
      "id": "babca13f",
      "metadata": {
        "id": "babca13f"
      },
      "source": [
        "### Subsetting:\n",
        "#### a[2]: Returns the element of index 2 in array a.\n",
        "#### a[3,5] – Returns the 2D array element on index [3][5]"
      ]
    },
    {
      "cell_type": "markdown",
      "id": "ec6eb6ff",
      "metadata": {
        "id": "ec6eb6ff"
      },
      "source": [
        "### Slicing:\n",
        "#### a[0:4] – Returns the elements at indices 0,1,2,3\n",
        "#### a[0:4,3] – Returns the elements on rows 0,1,2,3 at column 3\n",
        "#### a[:2] – Returns the elements at indices 0,1\n",
        "#### a[:,1] – Returns the elements at index 1 on all rows"
      ]
    },
    {
      "cell_type": "code",
      "execution_count": null,
      "id": "8bfa82ca",
      "metadata": {
        "id": "8bfa82ca"
      },
      "outputs": [],
      "source": [
        "#https://github.com/rougier/numpy-100/blob/master/100_Numpy_exercises_with_solutions.md"
      ]
    },
    {
      "cell_type": "code",
      "execution_count": null,
      "id": "45447e18",
      "metadata": {
        "id": "45447e18"
      },
      "outputs": [],
      "source": []
    },
    {
      "cell_type": "code",
      "execution_count": null,
      "id": "048aaf36",
      "metadata": {
        "id": "048aaf36"
      },
      "outputs": [],
      "source": []
    },
    {
      "cell_type": "code",
      "execution_count": null,
      "id": "678ec352",
      "metadata": {
        "id": "678ec352"
      },
      "outputs": [],
      "source": []
    }
  ],
  "metadata": {
    "kernelspec": {
      "display_name": "Python 3 (ipykernel)",
      "language": "python",
      "name": "python3"
    },
    "language_info": {
      "codemirror_mode": {
        "name": "ipython",
        "version": 3
      },
      "file_extension": ".py",
      "mimetype": "text/x-python",
      "name": "python",
      "nbconvert_exporter": "python",
      "pygments_lexer": "ipython3",
      "version": "3.9.12"
    },
    "colab": {
      "provenance": [],
      "collapsed_sections": [
        "e615ef33",
        "1f9e5747",
        "632a5118"
      ]
    }
  },
  "nbformat": 4,
  "nbformat_minor": 5
}