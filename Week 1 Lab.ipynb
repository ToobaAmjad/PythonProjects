{
 "cells": [
  {
   "cell_type": "code",
   "execution_count": 1,
   "id": "f48c4b79",
   "metadata": {},
   "outputs": [
    {
     "name": "stdout",
     "output_type": "stream",
     "text": [
      "Hello World\n"
     ]
    }
   ],
   "source": [
    "print(\"Hello World\")"
   ]
  },
  {
   "cell_type": "code",
   "execution_count": 2,
   "id": "2a9d12b4",
   "metadata": {},
   "outputs": [
    {
     "name": "stdout",
     "output_type": "stream",
     "text": [
      "3.9.13 (main, Aug 25 2022, 23:51:50) [MSC v.1916 64 bit (AMD64)]\n"
     ]
    }
   ],
   "source": [
    "#check the Python version\n",
    "import sys\n",
    "print(sys.version)"
   ]
  },
  {
   "cell_type": "code",
   "execution_count": 3,
   "id": "b29db5fe",
   "metadata": {},
   "outputs": [
    {
     "name": "stdout",
     "output_type": "stream",
     "text": [
      "Hi\n"
     ]
    }
   ],
   "source": [
    "print(\"Hi\")      #comments can be added"
   ]
  },
  {
   "cell_type": "code",
   "execution_count": 4,
   "id": "14b2f674",
   "metadata": {},
   "outputs": [
    {
     "ename": "NameError",
     "evalue": "name 'frint' is not defined",
     "output_type": "error",
     "traceback": [
      "\u001b[1;31m---------------------------------------------------------------------------\u001b[0m",
      "\u001b[1;31mNameError\u001b[0m                                 Traceback (most recent call last)",
      "\u001b[1;32m~\\AppData\\Local\\Temp\\ipykernel_10408\\1185490389.py\u001b[0m in \u001b[0;36m<module>\u001b[1;34m\u001b[0m\n\u001b[0;32m      1\u001b[0m \u001b[1;31m#error message\u001b[0m\u001b[1;33m\u001b[0m\u001b[1;33m\u001b[0m\u001b[0m\n\u001b[1;32m----> 2\u001b[1;33m \u001b[0mfrint\u001b[0m\u001b[1;33m(\u001b[0m\u001b[1;34m\"My name is Tooba\"\u001b[0m\u001b[1;33m)\u001b[0m\u001b[1;33m\u001b[0m\u001b[1;33m\u001b[0m\u001b[0m\n\u001b[0m",
      "\u001b[1;31mNameError\u001b[0m: name 'frint' is not defined"
     ]
    }
   ],
   "source": [
    "#error message\n",
    "frint(\"My name is Tooba\")"
   ]
  },
  {
   "cell_type": "code",
   "execution_count": 5,
   "id": "2dbe2578",
   "metadata": {},
   "outputs": [
    {
     "ename": "SyntaxError",
     "evalue": "EOL while scanning string literal (1161812601.py, line 2)",
     "output_type": "error",
     "traceback": [
      "\u001b[1;36m  File \u001b[1;32m\"C:\\Users\\Administrator\\AppData\\Local\\Temp\\ipykernel_10408\\1161812601.py\"\u001b[1;36m, line \u001b[1;32m2\u001b[0m\n\u001b[1;33m    print(\"I forgot to close the string)\u001b[0m\n\u001b[1;37m                                        ^\u001b[0m\n\u001b[1;31mSyntaxError\u001b[0m\u001b[1;31m:\u001b[0m EOL while scanning string literal\n"
     ]
    }
   ],
   "source": [
    "#syntax error\n",
    "print(\"I forgot to close the string)"
   ]
  },
  {
   "cell_type": "code",
   "execution_count": 6,
   "id": "40b6ab07",
   "metadata": {},
   "outputs": [
    {
     "name": "stdout",
     "output_type": "stream",
     "text": [
      "This will be printed\n"
     ]
    }
   ],
   "source": [
    "#print string and error to see the running order\n",
    "print(\"This will be printed\")"
   ]
  },
  {
   "cell_type": "code",
   "execution_count": 7,
   "id": "cecffc33",
   "metadata": {},
   "outputs": [
    {
     "ename": "NameError",
     "evalue": "name 'frint' is not defined",
     "output_type": "error",
     "traceback": [
      "\u001b[1;31m---------------------------------------------------------------------------\u001b[0m",
      "\u001b[1;31mNameError\u001b[0m                                 Traceback (most recent call last)",
      "\u001b[1;32m~\\AppData\\Local\\Temp\\ipykernel_10408\\2162286446.py\u001b[0m in \u001b[0;36m<module>\u001b[1;34m\u001b[0m\n\u001b[1;32m----> 1\u001b[1;33m \u001b[0mfrint\u001b[0m\u001b[1;33m(\u001b[0m\u001b[1;34m\"This will cause an error\"\u001b[0m\u001b[1;33m)\u001b[0m\u001b[1;33m\u001b[0m\u001b[1;33m\u001b[0m\u001b[0m\n\u001b[0m",
      "\u001b[1;31mNameError\u001b[0m: name 'frint' is not defined"
     ]
    }
   ],
   "source": [
    "frint(\"This will cause an error\")"
   ]
  },
  {
   "cell_type": "code",
   "execution_count": 8,
   "id": "8c745865",
   "metadata": {},
   "outputs": [
    {
     "name": "stdout",
     "output_type": "stream",
     "text": [
      "This will NOT be printed\n"
     ]
    }
   ],
   "source": [
    "print(\"This will NOT be printed\")"
   ]
  },
  {
   "cell_type": "code",
   "execution_count": 10,
   "id": "f6437c9a",
   "metadata": {},
   "outputs": [
    {
     "name": "stdout",
     "output_type": "stream",
     "text": [
      "Hello World!\n"
     ]
    }
   ],
   "source": [
    "print(\"Hello World!\")"
   ]
  },
  {
   "cell_type": "code",
   "execution_count": 11,
   "id": "8e6aed3f",
   "metadata": {},
   "outputs": [
    {
     "data": {
      "text/plain": [
       "int"
      ]
     },
     "execution_count": 11,
     "metadata": {},
     "output_type": "execute_result"
    }
   ],
   "source": [
    "#data types int, float and string\n",
    "type(17)"
   ]
  },
  {
   "cell_type": "code",
   "execution_count": 12,
   "id": "18784410",
   "metadata": {},
   "outputs": [
    {
     "data": {
      "text/plain": [
       "float"
      ]
     },
     "execution_count": 12,
     "metadata": {},
     "output_type": "execute_result"
    }
   ],
   "source": [
    "type(6.77)"
   ]
  },
  {
   "cell_type": "code",
   "execution_count": 13,
   "id": "47872a0e",
   "metadata": {},
   "outputs": [
    {
     "data": {
      "text/plain": [
       "str"
      ]
     },
     "execution_count": 13,
     "metadata": {},
     "output_type": "execute_result"
    }
   ],
   "source": [
    "type(\"String is enlosed within quotations\")"
   ]
  },
  {
   "cell_type": "code",
   "execution_count": 14,
   "id": "6b80322a",
   "metadata": {},
   "outputs": [
    {
     "data": {
      "text/plain": [
       "float"
      ]
     },
     "execution_count": 14,
     "metadata": {},
     "output_type": "execute_result"
    }
   ],
   "source": [
    "type(12.0)"
   ]
  },
  {
   "cell_type": "code",
   "execution_count": 15,
   "id": "c2263e93",
   "metadata": {},
   "outputs": [
    {
     "data": {
      "text/plain": [
       "int"
      ]
     },
     "execution_count": 15,
     "metadata": {},
     "output_type": "execute_result"
    }
   ],
   "source": [
    "type(-1)"
   ]
  },
  {
   "cell_type": "code",
   "execution_count": 16,
   "id": "aceb74af",
   "metadata": {},
   "outputs": [
    {
     "data": {
      "text/plain": [
       "int"
      ]
     },
     "execution_count": 16,
     "metadata": {},
     "output_type": "execute_result"
    }
   ],
   "source": [
    "type(0)"
   ]
  },
  {
   "cell_type": "code",
   "execution_count": 17,
   "id": "8d1abc55",
   "metadata": {},
   "outputs": [
    {
     "data": {
      "text/plain": [
       "sys.float_info(max=1.7976931348623157e+308, max_exp=1024, max_10_exp=308, min=2.2250738585072014e-308, min_exp=-1021, min_10_exp=-307, dig=15, mant_dig=53, epsilon=2.220446049250313e-16, radix=2, rounds=1)"
      ]
     },
     "execution_count": 17,
     "metadata": {},
     "output_type": "execute_result"
    }
   ],
   "source": [
    "#system settings about float type\n",
    "sys.float_info"
   ]
  },
  {
   "cell_type": "code",
   "execution_count": 18,
   "id": "dc08947f",
   "metadata": {},
   "outputs": [
    {
     "data": {
      "text/plain": [
       "int"
      ]
     },
     "execution_count": 18,
     "metadata": {},
     "output_type": "execute_result"
    }
   ],
   "source": [
    "#typecasting/ changing the data type\n",
    "type(2)"
   ]
  },
  {
   "cell_type": "code",
   "execution_count": 19,
   "id": "5bfcdc6f",
   "metadata": {},
   "outputs": [
    {
     "data": {
      "text/plain": [
       "2.0"
      ]
     },
     "execution_count": 19,
     "metadata": {},
     "output_type": "execute_result"
    }
   ],
   "source": [
    "float(2)"
   ]
  },
  {
   "cell_type": "code",
   "execution_count": 20,
   "id": "d64a1036",
   "metadata": {},
   "outputs": [
    {
     "data": {
      "text/plain": [
       "float"
      ]
     },
     "execution_count": 20,
     "metadata": {},
     "output_type": "execute_result"
    }
   ],
   "source": [
    "type(float(2))       #convert int 2 to float and check its type"
   ]
  },
  {
   "cell_type": "code",
   "execution_count": 21,
   "id": "863207d7",
   "metadata": {},
   "outputs": [
    {
     "data": {
      "text/plain": [
       "1"
      ]
     },
     "execution_count": 21,
     "metadata": {},
     "output_type": "execute_result"
    }
   ],
   "source": [
    "int(1.1)"
   ]
  },
  {
   "cell_type": "code",
   "execution_count": 22,
   "id": "aa2f07e1",
   "metadata": {},
   "outputs": [
    {
     "data": {
      "text/plain": [
       "1"
      ]
     },
     "execution_count": 22,
     "metadata": {},
     "output_type": "execute_result"
    }
   ],
   "source": [
    "#convert string to integer\n",
    "int(\"1\")"
   ]
  },
  {
   "cell_type": "code",
   "execution_count": 23,
   "id": "1834024a",
   "metadata": {},
   "outputs": [
    {
     "ename": "ValueError",
     "evalue": "invalid literal for int() with base 10: '1 or 2 people'",
     "output_type": "error",
     "traceback": [
      "\u001b[1;31m---------------------------------------------------------------------------\u001b[0m",
      "\u001b[1;31mValueError\u001b[0m                                Traceback (most recent call last)",
      "\u001b[1;32m~\\AppData\\Local\\Temp\\ipykernel_10408\\1231023095.py\u001b[0m in \u001b[0;36m<module>\u001b[1;34m\u001b[0m\n\u001b[0;32m      1\u001b[0m \u001b[1;31m#error converting from string to integer\u001b[0m\u001b[1;33m\u001b[0m\u001b[1;33m\u001b[0m\u001b[0m\n\u001b[1;32m----> 2\u001b[1;33m \u001b[0mint\u001b[0m\u001b[1;33m(\u001b[0m\u001b[1;34m\"1 or 2 people\"\u001b[0m\u001b[1;33m)\u001b[0m\u001b[1;33m\u001b[0m\u001b[1;33m\u001b[0m\u001b[0m\n\u001b[0m",
      "\u001b[1;31mValueError\u001b[0m: invalid literal for int() with base 10: '1 or 2 people'"
     ]
    }
   ],
   "source": [
    "#error converting from string to integer\n",
    "int(\"1 or 2 people\")"
   ]
  },
  {
   "cell_type": "code",
   "execution_count": 24,
   "id": "5fa8a97f",
   "metadata": {},
   "outputs": [
    {
     "data": {
      "text/plain": [
       "'1'"
      ]
     },
     "execution_count": 24,
     "metadata": {},
     "output_type": "execute_result"
    }
   ],
   "source": [
    "#convert int to string\n",
    "str(1)"
   ]
  },
  {
   "cell_type": "code",
   "execution_count": 25,
   "id": "ba7a8ebb",
   "metadata": {},
   "outputs": [
    {
     "data": {
      "text/plain": [
       "'1.22'"
      ]
     },
     "execution_count": 25,
     "metadata": {},
     "output_type": "execute_result"
    }
   ],
   "source": [
    "str(1.22)"
   ]
  },
  {
   "cell_type": "code",
   "execution_count": 26,
   "id": "017a37bb",
   "metadata": {},
   "outputs": [
    {
     "data": {
      "text/plain": [
       "bool"
      ]
     },
     "execution_count": 26,
     "metadata": {},
     "output_type": "execute_result"
    }
   ],
   "source": [
    "type(True)"
   ]
  },
  {
   "cell_type": "code",
   "execution_count": 27,
   "id": "b47bd7d0",
   "metadata": {},
   "outputs": [
    {
     "data": {
      "text/plain": [
       "bool"
      ]
     },
     "execution_count": 27,
     "metadata": {},
     "output_type": "execute_result"
    }
   ],
   "source": [
    "type(False)"
   ]
  },
  {
   "cell_type": "code",
   "execution_count": 28,
   "id": "3be6cca3",
   "metadata": {},
   "outputs": [
    {
     "data": {
      "text/plain": [
       "True"
      ]
     },
     "execution_count": 28,
     "metadata": {},
     "output_type": "execute_result"
    }
   ],
   "source": [
    "bool(1)"
   ]
  },
  {
   "cell_type": "code",
   "execution_count": 29,
   "id": "55759373",
   "metadata": {},
   "outputs": [
    {
     "data": {
      "text/plain": [
       "False"
      ]
     },
     "execution_count": 29,
     "metadata": {},
     "output_type": "execute_result"
    }
   ],
   "source": [
    "bool(0)"
   ]
  },
  {
   "cell_type": "code",
   "execution_count": 30,
   "id": "9cd58a66",
   "metadata": {},
   "outputs": [
    {
     "data": {
      "text/plain": [
       "1"
      ]
     },
     "execution_count": 30,
     "metadata": {},
     "output_type": "execute_result"
    }
   ],
   "source": [
    "int(True)"
   ]
  },
  {
   "cell_type": "code",
   "execution_count": 31,
   "id": "544ce4bf",
   "metadata": {},
   "outputs": [
    {
     "data": {
      "text/plain": [
       "1.0"
      ]
     },
     "execution_count": 31,
     "metadata": {},
     "output_type": "execute_result"
    }
   ],
   "source": [
    "float(True)"
   ]
  },
  {
   "cell_type": "markdown",
   "id": "8446fd9f",
   "metadata": {},
   "source": [
    "# Exercise:types"
   ]
  },
  {
   "cell_type": "code",
   "execution_count": 32,
   "id": "6e9c58e3",
   "metadata": {},
   "outputs": [
    {
     "data": {
      "text/plain": [
       "float"
      ]
     },
     "execution_count": 32,
     "metadata": {},
     "output_type": "execute_result"
    }
   ],
   "source": [
    "#What is the data type of the result of: 6 / 2?\n",
    "\n",
    "type(6/2)"
   ]
  },
  {
   "cell_type": "code",
   "execution_count": 33,
   "id": "134a940e",
   "metadata": {},
   "outputs": [
    {
     "data": {
      "text/plain": [
       "int"
      ]
     },
     "execution_count": 33,
     "metadata": {},
     "output_type": "execute_result"
    }
   ],
   "source": [
    "type(6//2)"
   ]
  },
  {
   "cell_type": "code",
   "execution_count": 34,
   "id": "0e3d6b2a",
   "metadata": {},
   "outputs": [
    {
     "data": {
      "text/plain": [
       "3.0"
      ]
     },
     "execution_count": 34,
     "metadata": {},
     "output_type": "execute_result"
    }
   ],
   "source": [
    "6/2   #expressions"
   ]
  },
  {
   "cell_type": "code",
   "execution_count": 35,
   "id": "3531962b",
   "metadata": {},
   "outputs": [
    {
     "data": {
      "text/plain": [
       "5.0"
      ]
     },
     "execution_count": 35,
     "metadata": {},
     "output_type": "execute_result"
    }
   ],
   "source": [
    "25/5"
   ]
  },
  {
   "cell_type": "code",
   "execution_count": 36,
   "id": "41bd7142",
   "metadata": {},
   "outputs": [
    {
     "data": {
      "text/plain": [
       "4.166666666666667"
      ]
     },
     "execution_count": 36,
     "metadata": {},
     "output_type": "execute_result"
    }
   ],
   "source": [
    "25/6"
   ]
  },
  {
   "cell_type": "code",
   "execution_count": 37,
   "id": "6df0df8c",
   "metadata": {},
   "outputs": [
    {
     "data": {
      "text/plain": [
       "5"
      ]
     },
     "execution_count": 37,
     "metadata": {},
     "output_type": "execute_result"
    }
   ],
   "source": [
    "25//5"
   ]
  },
  {
   "cell_type": "code",
   "execution_count": 38,
   "id": "2d5c6f74",
   "metadata": {},
   "outputs": [
    {
     "data": {
      "text/plain": [
       "4"
      ]
     },
     "execution_count": 38,
     "metadata": {},
     "output_type": "execute_result"
    }
   ],
   "source": [
    "25//6"
   ]
  },
  {
   "cell_type": "markdown",
   "id": "55e9ef03",
   "metadata": {},
   "source": [
    "# Exercise: Expressions"
   ]
  },
  {
   "cell_type": "code",
   "execution_count": 43,
   "id": "eb9f03fd",
   "metadata": {},
   "outputs": [],
   "source": [
    "#how many hours there are in 160 minutes\n",
    "total_hours=160/60"
   ]
  },
  {
   "cell_type": "code",
   "execution_count": 44,
   "id": "8d7cd4fa",
   "metadata": {},
   "outputs": [
    {
     "name": "stdout",
     "output_type": "stream",
     "text": [
      "2.6666666666666665\n"
     ]
    }
   ],
   "source": [
    "print(total_hours)"
   ]
  },
  {
   "cell_type": "code",
   "execution_count": 45,
   "id": "f32b9288",
   "metadata": {},
   "outputs": [
    {
     "data": {
      "text/plain": [
       "2"
      ]
     },
     "execution_count": 45,
     "metadata": {},
     "output_type": "execute_result"
    }
   ],
   "source": [
    "int(total_hours)"
   ]
  },
  {
   "cell_type": "code",
   "execution_count": 46,
   "id": "739106d6",
   "metadata": {},
   "outputs": [],
   "source": [
    "x= 43+60+16+41             #variable"
   ]
  },
  {
   "cell_type": "code",
   "execution_count": 47,
   "id": "d38bcfb9",
   "metadata": {},
   "outputs": [
    {
     "data": {
      "text/plain": [
       "160"
      ]
     },
     "execution_count": 47,
     "metadata": {},
     "output_type": "execute_result"
    }
   ],
   "source": [
    "x"
   ]
  },
  {
   "cell_type": "code",
   "execution_count": 48,
   "id": "5caee8ff",
   "metadata": {},
   "outputs": [
    {
     "data": {
      "text/plain": [
       "2.6666666666666665"
      ]
     },
     "execution_count": 48,
     "metadata": {},
     "output_type": "execute_result"
    }
   ],
   "source": [
    "y=x/60\n",
    "y"
   ]
  },
  {
   "cell_type": "code",
   "execution_count": 49,
   "id": "f64137ec",
   "metadata": {},
   "outputs": [
    {
     "data": {
      "text/plain": [
       "2.6666666666666665"
      ]
     },
     "execution_count": 49,
     "metadata": {},
     "output_type": "execute_result"
    }
   ],
   "source": [
    "x=x/60\n",
    "x                        #changes value of x and forgets old value"
   ]
  },
  {
   "cell_type": "markdown",
   "id": "baf84d0e",
   "metadata": {},
   "source": [
    "# Exercise"
   ]
  },
  {
   "cell_type": "code",
   "execution_count": 50,
   "id": "87316a14",
   "metadata": {},
   "outputs": [
    {
     "data": {
      "text/plain": [
       "7"
      ]
     },
     "execution_count": 50,
     "metadata": {},
     "output_type": "execute_result"
    }
   ],
   "source": [
    "#What is the value of x where x = 3 + 2 * 2\n",
    "\n",
    "x=3+2*2\n",
    "x"
   ]
  },
  {
   "cell_type": "code",
   "execution_count": 51,
   "id": "4bd908ea",
   "metadata": {},
   "outputs": [
    {
     "data": {
      "text/plain": [
       "10"
      ]
     },
     "execution_count": 51,
     "metadata": {},
     "output_type": "execute_result"
    }
   ],
   "source": [
    "#What is the value of y where y = (3 + 2) * 2?\n",
    "y=(3+2)*2\n",
    "y"
   ]
  },
  {
   "cell_type": "code",
   "execution_count": 52,
   "id": "438f868c",
   "metadata": {},
   "outputs": [
    {
     "data": {
      "text/plain": [
       "17"
      ]
     },
     "execution_count": 52,
     "metadata": {},
     "output_type": "execute_result"
    }
   ],
   "source": [
    "#What is the value of z where z = x + y?\n",
    "z=x+y\n",
    "z"
   ]
  },
  {
   "cell_type": "markdown",
   "id": "485f05d0",
   "metadata": {},
   "source": [
    "# Strings"
   ]
  },
  {
   "cell_type": "code",
   "execution_count": 53,
   "id": "f8e341da",
   "metadata": {},
   "outputs": [
    {
     "data": {
      "text/plain": [
       "'Mike_Tom'"
      ]
     },
     "execution_count": 53,
     "metadata": {},
     "output_type": "execute_result"
    }
   ],
   "source": [
    "Name= \"Mike_Tom\"\n",
    "Name"
   ]
  },
  {
   "cell_type": "code",
   "execution_count": 54,
   "id": "791a621d",
   "metadata": {},
   "outputs": [
    {
     "data": {
      "text/plain": [
       "'M'"
      ]
     },
     "execution_count": 54,
     "metadata": {},
     "output_type": "execute_result"
    }
   ],
   "source": [
    "Name[0]           #indexing"
   ]
  },
  {
   "cell_type": "code",
   "execution_count": 55,
   "id": "44f631f5",
   "metadata": {},
   "outputs": [
    {
     "data": {
      "text/plain": [
       "'m'"
      ]
     },
     "execution_count": 55,
     "metadata": {},
     "output_type": "execute_result"
    }
   ],
   "source": [
    "Name[-1]"
   ]
  },
  {
   "cell_type": "code",
   "execution_count": 56,
   "id": "ccff69ca",
   "metadata": {},
   "outputs": [
    {
     "data": {
      "text/plain": [
       "'_'"
      ]
     },
     "execution_count": 56,
     "metadata": {},
     "output_type": "execute_result"
    }
   ],
   "source": [
    "Name[4]"
   ]
  },
  {
   "cell_type": "code",
   "execution_count": 57,
   "id": "5ada5c18",
   "metadata": {},
   "outputs": [
    {
     "name": "stdout",
     "output_type": "stream",
     "text": [
      "M\n"
     ]
    }
   ],
   "source": [
    "print(Name[0])"
   ]
  },
  {
   "cell_type": "code",
   "execution_count": 59,
   "id": "c4e9a01a",
   "metadata": {},
   "outputs": [
    {
     "name": "stdout",
     "output_type": "stream",
     "text": [
      "M\n"
     ]
    }
   ],
   "source": [
    "print(Name[-8])            #-1 is the last index"
   ]
  },
  {
   "cell_type": "code",
   "execution_count": 60,
   "id": "79b2ce33",
   "metadata": {},
   "outputs": [
    {
     "data": {
      "text/plain": [
       "'Mike_'"
      ]
     },
     "execution_count": 60,
     "metadata": {},
     "output_type": "execute_result"
    }
   ],
   "source": [
    "Name[0:5]                #slicing, 5 is returning -1 or 4th value"
   ]
  },
  {
   "cell_type": "code",
   "execution_count": 62,
   "id": "f51f7fb6",
   "metadata": {},
   "outputs": [
    {
     "data": {
      "text/plain": [
       "'m'"
      ]
     },
     "execution_count": 62,
     "metadata": {},
     "output_type": "execute_result"
    }
   ],
   "source": [
    "Name[7:11]"
   ]
  },
  {
   "cell_type": "code",
   "execution_count": 63,
   "id": "4f9da3cc",
   "metadata": {},
   "outputs": [
    {
     "data": {
      "text/plain": [
       "''"
      ]
     },
     "execution_count": 63,
     "metadata": {},
     "output_type": "execute_result"
    }
   ],
   "source": [
    "Name[8:11]"
   ]
  },
  {
   "cell_type": "code",
   "execution_count": 65,
   "id": "cb693fbd",
   "metadata": {},
   "outputs": [
    {
     "name": "stdout",
     "output_type": "stream",
     "text": [
      "Tom\n"
     ]
    }
   ],
   "source": [
    "print(Name[5:8])"
   ]
  },
  {
   "cell_type": "code",
   "execution_count": 66,
   "id": "2931d91e",
   "metadata": {},
   "outputs": [
    {
     "data": {
      "text/plain": [
       "'Mike_Tom'"
      ]
     },
     "execution_count": 66,
     "metadata": {},
     "output_type": "execute_result"
    }
   ],
   "source": [
    "Name"
   ]
  },
  {
   "cell_type": "code",
   "execution_count": 67,
   "id": "1005210f",
   "metadata": {},
   "outputs": [
    {
     "data": {
      "text/plain": [
       "'Mk_o'"
      ]
     },
     "execution_count": 67,
     "metadata": {},
     "output_type": "execute_result"
    }
   ],
   "source": [
    "Name[::2]              #Striding"
   ]
  },
  {
   "cell_type": "code",
   "execution_count": 68,
   "id": "7dec59fe",
   "metadata": {},
   "outputs": [
    {
     "name": "stdout",
     "output_type": "stream",
     "text": [
      "Meo\n"
     ]
    }
   ],
   "source": [
    "print(Name[::3])"
   ]
  },
  {
   "cell_type": "code",
   "execution_count": 74,
   "id": "ccfb3c77",
   "metadata": {},
   "outputs": [
    {
     "name": "stdout",
     "output_type": "stream",
     "text": [
      "Mk\n"
     ]
    }
   ],
   "source": [
    "print(Name[0:3:2])         #index 0 to 2 and striding every 2nd value"
   ]
  },
  {
   "cell_type": "code",
   "execution_count": 75,
   "id": "ce79ee41",
   "metadata": {},
   "outputs": [
    {
     "name": "stdout",
     "output_type": "stream",
     "text": [
      "eTm\n"
     ]
    }
   ],
   "source": [
    "print(Name[3:8:2])"
   ]
  },
  {
   "cell_type": "code",
   "execution_count": 76,
   "id": "3d434689",
   "metadata": {},
   "outputs": [],
   "source": [
    "statement= Name + \"is the best\""
   ]
  },
  {
   "cell_type": "code",
   "execution_count": 77,
   "id": "8eec16cf",
   "metadata": {},
   "outputs": [
    {
     "data": {
      "text/plain": [
       "'Mike_Tomis the best'"
      ]
     },
     "execution_count": 77,
     "metadata": {},
     "output_type": "execute_result"
    }
   ],
   "source": [
    "statement"
   ]
  },
  {
   "cell_type": "code",
   "execution_count": 78,
   "id": "761ce06d",
   "metadata": {},
   "outputs": [],
   "source": [
    "statement= Name + \" is the best\""
   ]
  },
  {
   "cell_type": "code",
   "execution_count": 79,
   "id": "c60cbac5",
   "metadata": {},
   "outputs": [
    {
     "data": {
      "text/plain": [
       "'Mike_Tom is the best'"
      ]
     },
     "execution_count": 79,
     "metadata": {},
     "output_type": "execute_result"
    }
   ],
   "source": [
    "statement"
   ]
  },
  {
   "cell_type": "code",
   "execution_count": 80,
   "id": "6092ae5b",
   "metadata": {},
   "outputs": [
    {
     "data": {
      "text/plain": [
       "'Mike_Tom is the bestMike_Tom is the bestMike_Tom is the best'"
      ]
     },
     "execution_count": 80,
     "metadata": {},
     "output_type": "execute_result"
    }
   ],
   "source": [
    "3*statement"
   ]
  },
  {
   "cell_type": "code",
   "execution_count": 82,
   "id": "dcf91a6d",
   "metadata": {},
   "outputs": [
    {
     "data": {
      "text/plain": [
       "'Mike_Tom is the best, Mike_Tom is the best, Mike_Tom is the best, '"
      ]
     },
     "execution_count": 82,
     "metadata": {},
     "output_type": "execute_result"
    }
   ],
   "source": [
    "3* \"Mike_Tom is the best, \""
   ]
  },
  {
   "cell_type": "code",
   "execution_count": 83,
   "id": "2a4210fc",
   "metadata": {},
   "outputs": [],
   "source": [
    "Name = Name + \" is the best\"      #concatenate strings"
   ]
  },
  {
   "cell_type": "code",
   "execution_count": 84,
   "id": "2b736b75",
   "metadata": {},
   "outputs": [
    {
     "name": "stdout",
     "output_type": "stream",
     "text": [
      "Mike_Tom is the best\n"
     ]
    }
   ],
   "source": [
    "print(Name)"
   ]
  },
  {
   "cell_type": "code",
   "execution_count": 85,
   "id": "5077380f",
   "metadata": {},
   "outputs": [
    {
     "data": {
      "text/plain": [
       "'Mike_Tom is the best'"
      ]
     },
     "execution_count": 85,
     "metadata": {},
     "output_type": "execute_result"
    }
   ],
   "source": [
    "Name"
   ]
  },
  {
   "cell_type": "code",
   "execution_count": 87,
   "id": "688dff87",
   "metadata": {},
   "outputs": [
    {
     "name": "stdout",
     "output_type": "stream",
     "text": [
      "Mike_Tom \n",
      " is the best\n"
     ]
    }
   ],
   "source": [
    "print(\"Mike_Tom \\n is the best\")      #next line"
   ]
  },
  {
   "cell_type": "code",
   "execution_count": 88,
   "id": "4fd181e1",
   "metadata": {},
   "outputs": [
    {
     "name": "stdout",
     "output_type": "stream",
     "text": [
      "Mike_Tom \\ is the best\n"
     ]
    }
   ],
   "source": [
    "print(\"Mike_Tom \\\\ is the best\")         #add back slash"
   ]
  },
  {
   "cell_type": "code",
   "execution_count": 92,
   "id": "661ceacf",
   "metadata": {},
   "outputs": [
    {
     "name": "stdout",
     "output_type": "stream",
     "text": [
      "Mike_Tom \\\\ is the best\n"
     ]
    }
   ],
   "source": [
    "print(r\"Mike_Tom \\\\ is the best\")      #r before string displays string as it is"
   ]
  },
  {
   "cell_type": "code",
   "execution_count": 93,
   "id": "84e98e42",
   "metadata": {},
   "outputs": [],
   "source": [
    "a= \"Tooba\"\n",
    "b=a.upper()                             #upper string operation"
   ]
  },
  {
   "cell_type": "code",
   "execution_count": 94,
   "id": "6c7951d4",
   "metadata": {},
   "outputs": [
    {
     "name": "stdout",
     "output_type": "stream",
     "text": [
      "TOOBA\n"
     ]
    }
   ],
   "source": [
    "print(b)"
   ]
  },
  {
   "cell_type": "code",
   "execution_count": 110,
   "id": "4c3bf883",
   "metadata": {},
   "outputs": [
    {
     "data": {
      "text/plain": [
       "'Tooba is best'"
      ]
     },
     "execution_count": 110,
     "metadata": {},
     "output_type": "execute_result"
    }
   ],
   "source": [
    "a = \"Tooba\"\n",
    "a\n",
    "a=a+\" is best\"\n",
    "a"
   ]
  },
  {
   "cell_type": "code",
   "execution_count": 111,
   "id": "0581fa17",
   "metadata": {},
   "outputs": [],
   "source": [
    "b= a.replace(\"Tooba\",\"Hafsa\")           #replace string operation"
   ]
  },
  {
   "cell_type": "code",
   "execution_count": 112,
   "id": "e990f325",
   "metadata": {},
   "outputs": [
    {
     "name": "stdout",
     "output_type": "stream",
     "text": [
      "Hafsa is best\n"
     ]
    }
   ],
   "source": [
    "print(b)"
   ]
  },
  {
   "cell_type": "code",
   "execution_count": 113,
   "id": "a64e063f",
   "metadata": {},
   "outputs": [
    {
     "data": {
      "text/plain": [
       "'Tooba is best'"
      ]
     },
     "execution_count": 113,
     "metadata": {},
     "output_type": "execute_result"
    }
   ],
   "source": [
    "a"
   ]
  },
  {
   "cell_type": "code",
   "execution_count": 116,
   "id": "739fef55",
   "metadata": {},
   "outputs": [
    {
     "data": {
      "text/plain": [
       "1"
      ]
     },
     "execution_count": 116,
     "metadata": {},
     "output_type": "execute_result"
    }
   ],
   "source": [
    "a.find('oo')           #only first index returned"
   ]
  },
  {
   "cell_type": "code",
   "execution_count": 115,
   "id": "153b87de",
   "metadata": {},
   "outputs": [
    {
     "data": {
      "text/plain": [
       "2"
      ]
     },
     "execution_count": 115,
     "metadata": {},
     "output_type": "execute_result"
    }
   ],
   "source": [
    "b.find('f')"
   ]
  },
  {
   "cell_type": "code",
   "execution_count": 117,
   "id": "55305e52",
   "metadata": {},
   "outputs": [
    {
     "data": {
      "text/plain": [
       "9"
      ]
     },
     "execution_count": 117,
     "metadata": {},
     "output_type": "execute_result"
    }
   ],
   "source": [
    "a.find(\"best\")"
   ]
  },
  {
   "cell_type": "code",
   "execution_count": 118,
   "id": "e54daed5",
   "metadata": {},
   "outputs": [
    {
     "data": {
      "text/plain": [
       "-1"
      ]
     },
     "execution_count": 118,
     "metadata": {},
     "output_type": "execute_result"
    }
   ],
   "source": [
    "a.find(\"h\")                     #substring not in the string"
   ]
  },
  {
   "cell_type": "markdown",
   "id": "4a1c0ea1",
   "metadata": {},
   "source": [
    "# Quiz on Strings"
   ]
  },
  {
   "cell_type": "code",
   "execution_count": 119,
   "id": "5de73e8c",
   "metadata": {},
   "outputs": [],
   "source": [
    "a=\"1\""
   ]
  },
  {
   "cell_type": "code",
   "execution_count": 120,
   "id": "9adb8f1e",
   "metadata": {},
   "outputs": [
    {
     "data": {
      "text/plain": [
       "'1'"
      ]
     },
     "execution_count": 120,
     "metadata": {},
     "output_type": "execute_result"
    }
   ],
   "source": [
    "a"
   ]
  },
  {
   "cell_type": "code",
   "execution_count": 121,
   "id": "ab03fc0c",
   "metadata": {},
   "outputs": [
    {
     "data": {
      "text/plain": [
       "'2'"
      ]
     },
     "execution_count": 121,
     "metadata": {},
     "output_type": "execute_result"
    }
   ],
   "source": [
    "b=\"2\"\n",
    "b"
   ]
  },
  {
   "cell_type": "code",
   "execution_count": 122,
   "id": "9a9a7a1c",
   "metadata": {},
   "outputs": [
    {
     "data": {
      "text/plain": [
       "'12'"
      ]
     },
     "execution_count": 122,
     "metadata": {},
     "output_type": "execute_result"
    }
   ],
   "source": [
    "c= a+b                          #concenated a & b\n",
    "c       "
   ]
  },
  {
   "cell_type": "code",
   "execution_count": 124,
   "id": "902a7dfc",
   "metadata": {},
   "outputs": [
    {
     "data": {
      "text/plain": [
       "'ABC'"
      ]
     },
     "execution_count": 124,
     "metadata": {},
     "output_type": "execute_result"
    }
   ],
   "source": [
    "d= \"ABCDEFG\"\n",
    "d[0:3]"
   ]
  },
  {
   "cell_type": "code",
   "execution_count": 125,
   "id": "b31224a1",
   "metadata": {},
   "outputs": [
    {
     "name": "stdout",
     "output_type": "stream",
     "text": [
      "ABC\n"
     ]
    }
   ],
   "source": [
    "print(d[0:3])"
   ]
  },
  {
   "cell_type": "code",
   "execution_count": 126,
   "id": "1fc26ebe",
   "metadata": {},
   "outputs": [
    {
     "name": "stdout",
     "output_type": "stream",
     "text": [
      "correct\n"
     ]
    }
   ],
   "source": [
    "e = 'clocrkr1e1c1t'            #print every 2nd\n",
    "print(e[::2])"
   ]
  },
  {
   "cell_type": "code",
   "execution_count": 127,
   "id": "657ecabe",
   "metadata": {},
   "outputs": [
    {
     "name": "stdout",
     "output_type": "stream",
     "text": [
      "\\\n"
     ]
    }
   ],
   "source": [
    "print(\"\\\\\")               #print blackslash"
   ]
  },
  {
   "cell_type": "code",
   "execution_count": 128,
   "id": "5c34bd2f",
   "metadata": {},
   "outputs": [
    {
     "data": {
      "text/plain": [
       "'YOU ARE WRONG'"
      ]
     },
     "execution_count": 128,
     "metadata": {},
     "output_type": "execute_result"
    }
   ],
   "source": [
    "f = \"You are wrong\"\n",
    "f.upper()"
   ]
  },
  {
   "cell_type": "code",
   "execution_count": 129,
   "id": "2c9b620c",
   "metadata": {},
   "outputs": [
    {
     "data": {
      "text/plain": [
       "95"
      ]
     },
     "execution_count": 129,
     "metadata": {},
     "output_type": "execute_result"
    }
   ],
   "source": [
    "g = \"Mary had a little lamb Little lamb, little lamb Mary had a little lamb \\\n",
    "Its fleece was white as snow And everywhere that Mary went Mary went, Mary went \\\n",
    "Everywhere that Mary went The lamb was sure to go\"\n",
    "\n",
    "g.find(\"snow\")                          #find first index of snow"
   ]
  },
  {
   "cell_type": "code",
   "execution_count": 130,
   "id": "b93c6da4",
   "metadata": {},
   "outputs": [
    {
     "data": {
      "text/plain": [
       "'Bob had a little lamb Little lamb, little lamb Bob had a little lamb Its fleece was white as snow And everywhere that Bob went Bob went, Bob went Everywhere that Bob went The lamb was sure to go'"
      ]
     },
     "execution_count": 130,
     "metadata": {},
     "output_type": "execute_result"
    }
   ],
   "source": [
    "g.replace(\"Mary\", \"Bob\")"
   ]
  },
  {
   "cell_type": "code",
   "execution_count": null,
   "id": "d60e72e7",
   "metadata": {},
   "outputs": [],
   "source": []
  }
 ],
 "metadata": {
  "kernelspec": {
   "display_name": "Python 3 (ipykernel)",
   "language": "python",
   "name": "python3"
  },
  "language_info": {
   "codemirror_mode": {
    "name": "ipython",
    "version": 3
   },
   "file_extension": ".py",
   "mimetype": "text/x-python",
   "name": "python",
   "nbconvert_exporter": "python",
   "pygments_lexer": "ipython3",
   "version": "3.9.13"
  }
 },
 "nbformat": 4,
 "nbformat_minor": 5
}
