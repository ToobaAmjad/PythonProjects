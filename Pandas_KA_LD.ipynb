{
  "cells": [
    {
      "cell_type": "markdown",
      "id": "c7898a2d",
      "metadata": {
        "id": "c7898a2d"
      },
      "source": [
        "# PANDAS!!!"
      ]
    },
    {
      "cell_type": "markdown",
      "id": "a51c74a1",
      "metadata": {
        "id": "a51c74a1"
      },
      "source": [
        "![](pandas.jpg)"
      ]
    },
    {
      "cell_type": "markdown",
      "id": "860e5a44",
      "metadata": {
        "id": "860e5a44"
      },
      "source": [
        "# Pandas is essentially your data’s home. Through pandas, you get acquainted with your data by cleaning, transforming, and analyzing it."
      ]
    },
    {
      "cell_type": "markdown",
      "id": "ff40ff03",
      "metadata": {
        "id": "ff40ff03"
      },
      "source": [
        "## For example, say you want to explore a dataset stored in a CSV on your computer. Pandas will extract the data from that CSV into a DataFrame — a table, basically — then let you do things like:"
      ]
    },
    {
      "cell_type": "markdown",
      "id": "bef32840",
      "metadata": {
        "id": "bef32840"
      },
      "source": [
        "### Calculate statistics and answer questions about the data, like"
      ]
    },
    {
      "cell_type": "markdown",
      "id": "df549544",
      "metadata": {
        "id": "df549544"
      },
      "source": [
        "##### What's the average, median, max, or min of each column?\n",
        "##### Does column A correlate with column B?\n",
        "##### What does the distribution of data in column C look like?\n"
      ]
    },
    {
      "cell_type": "markdown",
      "id": "aef8c046",
      "metadata": {
        "id": "aef8c046"
      },
      "source": [
        "### Clean the data by doing things like removing missing values and filtering rows or columns by some criteria\n",
        "### Visualize the data with help from Matplotlib. Plot bars, lines, histograms, bubbles, and more.\n",
        "### Store the cleaned, transformed data back into a CSV, other file or database"
      ]
    },
    {
      "cell_type": "markdown",
      "id": "07d1caa1",
      "metadata": {
        "id": "07d1caa1"
      },
      "source": [
        "# Core components of pandas: Series and DataFrames"
      ]
    },
    {
      "cell_type": "markdown",
      "id": "357eb61f",
      "metadata": {
        "id": "357eb61f"
      },
      "source": [
        "![](df.jpg)"
      ]
    },
    {
      "cell_type": "markdown",
      "id": "1bc6dd33",
      "metadata": {
        "id": "1bc6dd33"
      },
      "source": [
        "### *A Series is essentially a column\n",
        "### *A DataFrame is a multi-dimensional table made up of a collection of Series."
      ]
    },
    {
      "cell_type": "code",
      "execution_count": null,
      "id": "19fea397",
      "metadata": {
        "id": "19fea397",
        "outputId": "ae362e8d-3fac-4fea-886c-6cad75c1dd99"
      },
      "outputs": [
        {
          "data": {
            "text/plain": [
              "[1, 3, 5, 7, 9, 2, 4, 6, 8, 10]"
            ]
          },
          "execution_count": 1,
          "metadata": {},
          "output_type": "execute_result"
        }
      ],
      "source": [
        "dataSet1 = [1,3,5,7,9]\n",
        "dataSet2 = [2,4,6,8,10]\n",
        "dataset=dataSet1+dataSet2\n",
        "dataset"
      ]
    },
    {
      "cell_type": "code",
      "execution_count": null,
      "id": "f84f7257",
      "metadata": {
        "id": "f84f7257",
        "outputId": "44c4ec30-6aa9-4e2d-b6b4-ed4abdc4fb67"
      },
      "outputs": [
        {
          "name": "stdout",
          "output_type": "stream",
          "text": [
            "0     3\n",
            "1     7\n",
            "2    11\n",
            "3    15\n",
            "4    19\n",
            "dtype: int64\n"
          ]
        }
      ],
      "source": [
        "import pandas as pd\n",
        "dataSet1 = [1,3,5,7,9]\n",
        "dataSet2 = [2,4,6,8,10]\n",
        "series1 = pd.Series(dataSet1)\n",
        "series2 = pd.Series(dataSet2)\n",
        "series3 = series1+series2;\n",
        "#print(\"pandas Series1:\");\n",
        "print(series3);"
      ]
    },
    {
      "cell_type": "markdown",
      "id": "3b853001",
      "metadata": {
        "id": "3b853001"
      },
      "source": [
        "# Creating DataFrames from scratch"
      ]
    },
    {
      "cell_type": "markdown",
      "id": "9141f8aa",
      "metadata": {
        "id": "9141f8aa"
      },
      "source": [
        "![](dic.jpg)"
      ]
    },
    {
      "cell_type": "markdown",
      "id": "a756b862",
      "metadata": {
        "id": "a756b862"
      },
      "source": [
        "![](dfout.jpg)"
      ]
    },
    {
      "cell_type": "markdown",
      "id": "b0e69ee8",
      "metadata": {
        "id": "b0e69ee8"
      },
      "source": [
        "### Indexing"
      ]
    },
    {
      "cell_type": "markdown",
      "id": "343b3bbc",
      "metadata": {
        "id": "343b3bbc"
      },
      "source": [
        "![](Index.jpg)"
      ]
    },
    {
      "cell_type": "markdown",
      "id": "9e97755a",
      "metadata": {
        "id": "9e97755a"
      },
      "source": [
        "![](locate.jpg)"
      ]
    },
    {
      "cell_type": "markdown",
      "id": "265fccfc",
      "metadata": {
        "id": "265fccfc"
      },
      "source": [
        "## Most important DataFrame operations"
      ]
    },
    {
      "cell_type": "code",
      "execution_count": null,
      "id": "3a4f8afa",
      "metadata": {
        "id": "3a4f8afa",
        "outputId": "414674f3-c615-4959-ef2b-66f8909a38b4"
      },
      "outputs": [
        {
          "data": {
            "text/html": [
              "<div>\n",
              "<style scoped>\n",
              "    .dataframe tbody tr th:only-of-type {\n",
              "        vertical-align: middle;\n",
              "    }\n",
              "\n",
              "    .dataframe tbody tr th {\n",
              "        vertical-align: top;\n",
              "    }\n",
              "\n",
              "    .dataframe thead th {\n",
              "        text-align: right;\n",
              "    }\n",
              "</style>\n",
              "<table border=\"1\" class=\"dataframe\">\n",
              "  <thead>\n",
              "    <tr style=\"text-align: right;\">\n",
              "      <th></th>\n",
              "      <th>id</th>\n",
              "      <th>season</th>\n",
              "      <th>city</th>\n",
              "      <th>date</th>\n",
              "      <th>team1</th>\n",
              "      <th>team2</th>\n",
              "      <th>toss_winner</th>\n",
              "      <th>toss_decision</th>\n",
              "      <th>result</th>\n",
              "      <th>dl_applied</th>\n",
              "      <th>winner</th>\n",
              "      <th>win_by_runs</th>\n",
              "      <th>win_by_wickets</th>\n",
              "      <th>player_of_match</th>\n",
              "      <th>venue</th>\n",
              "      <th>umpire1</th>\n",
              "      <th>umpire2</th>\n",
              "      <th>umpire3</th>\n",
              "    </tr>\n",
              "  </thead>\n",
              "  <tbody>\n",
              "    <tr>\n",
              "      <th>0</th>\n",
              "      <td>1</td>\n",
              "      <td>2017</td>\n",
              "      <td>Hyderabad</td>\n",
              "      <td>2017-04-05</td>\n",
              "      <td>Sunrisers Hyderabad</td>\n",
              "      <td>Royal Challengers Bangalore</td>\n",
              "      <td>Royal Challengers Bangalore</td>\n",
              "      <td>field</td>\n",
              "      <td>normal</td>\n",
              "      <td>0</td>\n",
              "      <td>Sunrisers Hyderabad</td>\n",
              "      <td>35</td>\n",
              "      <td>0</td>\n",
              "      <td>Yuvraj Singh</td>\n",
              "      <td>Rajiv Gandhi International Stadium, Uppal</td>\n",
              "      <td>AY Dandekar</td>\n",
              "      <td>NJ Llong</td>\n",
              "      <td>NaN</td>\n",
              "    </tr>\n",
              "    <tr>\n",
              "      <th>1</th>\n",
              "      <td>2</td>\n",
              "      <td>2017</td>\n",
              "      <td>Pune</td>\n",
              "      <td>2017-04-06</td>\n",
              "      <td>Mumbai Indians</td>\n",
              "      <td>Rising Pune Supergiant</td>\n",
              "      <td>Rising Pune Supergiant</td>\n",
              "      <td>field</td>\n",
              "      <td>normal</td>\n",
              "      <td>0</td>\n",
              "      <td>Rising Pune Supergiant</td>\n",
              "      <td>0</td>\n",
              "      <td>7</td>\n",
              "      <td>SPD Smith</td>\n",
              "      <td>Maharashtra Cricket Association Stadium</td>\n",
              "      <td>A Nand Kishore</td>\n",
              "      <td>S Ravi</td>\n",
              "      <td>NaN</td>\n",
              "    </tr>\n",
              "    <tr>\n",
              "      <th>2</th>\n",
              "      <td>3</td>\n",
              "      <td>2017</td>\n",
              "      <td>Rajkot</td>\n",
              "      <td>2017-04-07</td>\n",
              "      <td>Gujarat Lions</td>\n",
              "      <td>Kolkata Knight Riders</td>\n",
              "      <td>Kolkata Knight Riders</td>\n",
              "      <td>field</td>\n",
              "      <td>normal</td>\n",
              "      <td>0</td>\n",
              "      <td>Kolkata Knight Riders</td>\n",
              "      <td>0</td>\n",
              "      <td>10</td>\n",
              "      <td>CA Lynn</td>\n",
              "      <td>Saurashtra Cricket Association Stadium</td>\n",
              "      <td>Nitin Menon</td>\n",
              "      <td>CK Nandan</td>\n",
              "      <td>NaN</td>\n",
              "    </tr>\n",
              "    <tr>\n",
              "      <th>3</th>\n",
              "      <td>4</td>\n",
              "      <td>2017</td>\n",
              "      <td>Indore</td>\n",
              "      <td>2017-04-08</td>\n",
              "      <td>Rising Pune Supergiant</td>\n",
              "      <td>Kings XI Punjab</td>\n",
              "      <td>Kings XI Punjab</td>\n",
              "      <td>field</td>\n",
              "      <td>normal</td>\n",
              "      <td>0</td>\n",
              "      <td>Kings XI Punjab</td>\n",
              "      <td>0</td>\n",
              "      <td>6</td>\n",
              "      <td>GJ Maxwell</td>\n",
              "      <td>Holkar Cricket Stadium</td>\n",
              "      <td>AK Chaudhary</td>\n",
              "      <td>C Shamshuddin</td>\n",
              "      <td>NaN</td>\n",
              "    </tr>\n",
              "    <tr>\n",
              "      <th>4</th>\n",
              "      <td>5</td>\n",
              "      <td>2017</td>\n",
              "      <td>Bangalore</td>\n",
              "      <td>2017-04-08</td>\n",
              "      <td>Royal Challengers Bangalore</td>\n",
              "      <td>Delhi Daredevils</td>\n",
              "      <td>Royal Challengers Bangalore</td>\n",
              "      <td>bat</td>\n",
              "      <td>normal</td>\n",
              "      <td>0</td>\n",
              "      <td>Royal Challengers Bangalore</td>\n",
              "      <td>15</td>\n",
              "      <td>0</td>\n",
              "      <td>KM Jadhav</td>\n",
              "      <td>M Chinnaswamy Stadium</td>\n",
              "      <td>NaN</td>\n",
              "      <td>NaN</td>\n",
              "      <td>NaN</td>\n",
              "    </tr>\n",
              "    <tr>\n",
              "      <th>...</th>\n",
              "      <td>...</td>\n",
              "      <td>...</td>\n",
              "      <td>...</td>\n",
              "      <td>...</td>\n",
              "      <td>...</td>\n",
              "      <td>...</td>\n",
              "      <td>...</td>\n",
              "      <td>...</td>\n",
              "      <td>...</td>\n",
              "      <td>...</td>\n",
              "      <td>...</td>\n",
              "      <td>...</td>\n",
              "      <td>...</td>\n",
              "      <td>...</td>\n",
              "      <td>...</td>\n",
              "      <td>...</td>\n",
              "      <td>...</td>\n",
              "      <td>...</td>\n",
              "    </tr>\n",
              "    <tr>\n",
              "      <th>751</th>\n",
              "      <td>11347</td>\n",
              "      <td>2019</td>\n",
              "      <td>Mumbai</td>\n",
              "      <td>05/05/19</td>\n",
              "      <td>Kolkata Knight Riders</td>\n",
              "      <td>Mumbai Indians</td>\n",
              "      <td>Mumbai Indians</td>\n",
              "      <td>field</td>\n",
              "      <td>normal</td>\n",
              "      <td>0</td>\n",
              "      <td>Mumbai Indians</td>\n",
              "      <td>0</td>\n",
              "      <td>9</td>\n",
              "      <td>HH Pandya</td>\n",
              "      <td>Wankhede Stadium</td>\n",
              "      <td>Nanda Kishore</td>\n",
              "      <td>O Nandan</td>\n",
              "      <td>S Ravi</td>\n",
              "    </tr>\n",
              "    <tr>\n",
              "      <th>752</th>\n",
              "      <td>11412</td>\n",
              "      <td>2019</td>\n",
              "      <td>Chennai</td>\n",
              "      <td>07/05/19</td>\n",
              "      <td>Chennai Super Kings</td>\n",
              "      <td>Mumbai Indians</td>\n",
              "      <td>Chennai Super Kings</td>\n",
              "      <td>bat</td>\n",
              "      <td>normal</td>\n",
              "      <td>0</td>\n",
              "      <td>Mumbai Indians</td>\n",
              "      <td>0</td>\n",
              "      <td>6</td>\n",
              "      <td>AS Yadav</td>\n",
              "      <td>M. A. Chidambaram Stadium</td>\n",
              "      <td>Nigel Llong</td>\n",
              "      <td>Nitin Menon</td>\n",
              "      <td>Ian Gould</td>\n",
              "    </tr>\n",
              "    <tr>\n",
              "      <th>753</th>\n",
              "      <td>11413</td>\n",
              "      <td>2019</td>\n",
              "      <td>Visakhapatnam</td>\n",
              "      <td>08/05/19</td>\n",
              "      <td>Sunrisers Hyderabad</td>\n",
              "      <td>Delhi Capitals</td>\n",
              "      <td>Delhi Capitals</td>\n",
              "      <td>field</td>\n",
              "      <td>normal</td>\n",
              "      <td>0</td>\n",
              "      <td>Delhi Capitals</td>\n",
              "      <td>0</td>\n",
              "      <td>2</td>\n",
              "      <td>RR Pant</td>\n",
              "      <td>ACA-VDCA Stadium</td>\n",
              "      <td>NaN</td>\n",
              "      <td>NaN</td>\n",
              "      <td>NaN</td>\n",
              "    </tr>\n",
              "    <tr>\n",
              "      <th>754</th>\n",
              "      <td>11414</td>\n",
              "      <td>2019</td>\n",
              "      <td>Visakhapatnam</td>\n",
              "      <td>10/05/19</td>\n",
              "      <td>Delhi Capitals</td>\n",
              "      <td>Chennai Super Kings</td>\n",
              "      <td>Chennai Super Kings</td>\n",
              "      <td>field</td>\n",
              "      <td>normal</td>\n",
              "      <td>0</td>\n",
              "      <td>Chennai Super Kings</td>\n",
              "      <td>0</td>\n",
              "      <td>6</td>\n",
              "      <td>F du Plessis</td>\n",
              "      <td>ACA-VDCA Stadium</td>\n",
              "      <td>Sundaram Ravi</td>\n",
              "      <td>Bruce Oxenford</td>\n",
              "      <td>Chettithody Shamshuddin</td>\n",
              "    </tr>\n",
              "    <tr>\n",
              "      <th>755</th>\n",
              "      <td>11415</td>\n",
              "      <td>2019</td>\n",
              "      <td>Hyderabad</td>\n",
              "      <td>12/05/19</td>\n",
              "      <td>Mumbai Indians</td>\n",
              "      <td>Chennai Super Kings</td>\n",
              "      <td>Mumbai Indians</td>\n",
              "      <td>bat</td>\n",
              "      <td>normal</td>\n",
              "      <td>0</td>\n",
              "      <td>Mumbai Indians</td>\n",
              "      <td>1</td>\n",
              "      <td>0</td>\n",
              "      <td>JJ Bumrah</td>\n",
              "      <td>Rajiv Gandhi Intl. Cricket Stadium</td>\n",
              "      <td>Nitin Menon</td>\n",
              "      <td>Ian Gould</td>\n",
              "      <td>Nigel Llong</td>\n",
              "    </tr>\n",
              "  </tbody>\n",
              "</table>\n",
              "<p>756 rows × 18 columns</p>\n",
              "</div>"
            ],
            "text/plain": [
              "        id  season           city        date                        team1  \\\n",
              "0        1    2017      Hyderabad  2017-04-05          Sunrisers Hyderabad   \n",
              "1        2    2017           Pune  2017-04-06               Mumbai Indians   \n",
              "2        3    2017         Rajkot  2017-04-07                Gujarat Lions   \n",
              "3        4    2017         Indore  2017-04-08       Rising Pune Supergiant   \n",
              "4        5    2017      Bangalore  2017-04-08  Royal Challengers Bangalore   \n",
              "..     ...     ...            ...         ...                          ...   \n",
              "751  11347    2019         Mumbai    05/05/19        Kolkata Knight Riders   \n",
              "752  11412    2019        Chennai    07/05/19          Chennai Super Kings   \n",
              "753  11413    2019  Visakhapatnam    08/05/19          Sunrisers Hyderabad   \n",
              "754  11414    2019  Visakhapatnam    10/05/19               Delhi Capitals   \n",
              "755  11415    2019      Hyderabad    12/05/19               Mumbai Indians   \n",
              "\n",
              "                           team2                  toss_winner toss_decision  \\\n",
              "0    Royal Challengers Bangalore  Royal Challengers Bangalore         field   \n",
              "1         Rising Pune Supergiant       Rising Pune Supergiant         field   \n",
              "2          Kolkata Knight Riders        Kolkata Knight Riders         field   \n",
              "3                Kings XI Punjab              Kings XI Punjab         field   \n",
              "4               Delhi Daredevils  Royal Challengers Bangalore           bat   \n",
              "..                           ...                          ...           ...   \n",
              "751               Mumbai Indians               Mumbai Indians         field   \n",
              "752               Mumbai Indians          Chennai Super Kings           bat   \n",
              "753               Delhi Capitals               Delhi Capitals         field   \n",
              "754          Chennai Super Kings          Chennai Super Kings         field   \n",
              "755          Chennai Super Kings               Mumbai Indians           bat   \n",
              "\n",
              "     result  dl_applied                       winner  win_by_runs  \\\n",
              "0    normal           0          Sunrisers Hyderabad           35   \n",
              "1    normal           0       Rising Pune Supergiant            0   \n",
              "2    normal           0        Kolkata Knight Riders            0   \n",
              "3    normal           0              Kings XI Punjab            0   \n",
              "4    normal           0  Royal Challengers Bangalore           15   \n",
              "..      ...         ...                          ...          ...   \n",
              "751  normal           0               Mumbai Indians            0   \n",
              "752  normal           0               Mumbai Indians            0   \n",
              "753  normal           0               Delhi Capitals            0   \n",
              "754  normal           0          Chennai Super Kings            0   \n",
              "755  normal           0               Mumbai Indians            1   \n",
              "\n",
              "     win_by_wickets player_of_match  \\\n",
              "0                 0    Yuvraj Singh   \n",
              "1                 7       SPD Smith   \n",
              "2                10         CA Lynn   \n",
              "3                 6      GJ Maxwell   \n",
              "4                 0       KM Jadhav   \n",
              "..              ...             ...   \n",
              "751               9       HH Pandya   \n",
              "752               6        AS Yadav   \n",
              "753               2         RR Pant   \n",
              "754               6    F du Plessis   \n",
              "755               0       JJ Bumrah   \n",
              "\n",
              "                                         venue         umpire1  \\\n",
              "0    Rajiv Gandhi International Stadium, Uppal     AY Dandekar   \n",
              "1      Maharashtra Cricket Association Stadium  A Nand Kishore   \n",
              "2       Saurashtra Cricket Association Stadium     Nitin Menon   \n",
              "3                       Holkar Cricket Stadium    AK Chaudhary   \n",
              "4                        M Chinnaswamy Stadium             NaN   \n",
              "..                                         ...             ...   \n",
              "751                           Wankhede Stadium   Nanda Kishore   \n",
              "752                  M. A. Chidambaram Stadium     Nigel Llong   \n",
              "753                           ACA-VDCA Stadium             NaN   \n",
              "754                           ACA-VDCA Stadium   Sundaram Ravi   \n",
              "755         Rajiv Gandhi Intl. Cricket Stadium     Nitin Menon   \n",
              "\n",
              "            umpire2                  umpire3  \n",
              "0          NJ Llong                      NaN  \n",
              "1            S Ravi                      NaN  \n",
              "2         CK Nandan                      NaN  \n",
              "3     C Shamshuddin                      NaN  \n",
              "4               NaN                      NaN  \n",
              "..              ...                      ...  \n",
              "751        O Nandan                   S Ravi  \n",
              "752     Nitin Menon                Ian Gould  \n",
              "753             NaN                      NaN  \n",
              "754  Bruce Oxenford  Chettithody Shamshuddin  \n",
              "755       Ian Gould              Nigel Llong  \n",
              "\n",
              "[756 rows x 18 columns]"
            ]
          },
          "execution_count": 3,
          "metadata": {},
          "output_type": "execute_result"
        }
      ],
      "source": [
        "import pandas as pd\n",
        "matches_df1 = pd.read_csv(\"matches.csv\")\n",
        "matches_df1"
      ]
    },
    {
      "cell_type": "code",
      "execution_count": null,
      "id": "d5657176",
      "metadata": {
        "id": "d5657176"
      },
      "outputs": [],
      "source": [
        "import pandas as pd\n",
        "matches_df2 = pd.read_csv(\"matches.csv\", index_col=\"season\")\n",
        "matches_df2"
      ]
    },
    {
      "cell_type": "markdown",
      "id": "c194ee8d",
      "metadata": {
        "id": "c194ee8d"
      },
      "source": [
        "### Viewing your data"
      ]
    },
    {
      "cell_type": "code",
      "execution_count": null,
      "id": "8072ca68",
      "metadata": {
        "id": "8072ca68"
      },
      "outputs": [],
      "source": [
        "matches_df2.head()"
      ]
    },
    {
      "cell_type": "code",
      "execution_count": null,
      "id": "6f2be218",
      "metadata": {
        "id": "6f2be218"
      },
      "outputs": [],
      "source": [
        "matches_df2.tail()"
      ]
    },
    {
      "cell_type": "markdown",
      "id": "5fcd7dc9",
      "metadata": {
        "id": "5fcd7dc9"
      },
      "source": [
        "### Getting info about your data"
      ]
    },
    {
      "cell_type": "code",
      "execution_count": null,
      "id": "31e817c4",
      "metadata": {
        "id": "31e817c4"
      },
      "outputs": [],
      "source": [
        "matches_df2.info()"
      ]
    },
    {
      "cell_type": "code",
      "execution_count": null,
      "id": "182b52c3",
      "metadata": {
        "id": "182b52c3"
      },
      "outputs": [],
      "source": [
        "matches_df2.shape"
      ]
    },
    {
      "cell_type": "code",
      "execution_count": null,
      "id": "ed13af97",
      "metadata": {
        "id": "ed13af97"
      },
      "outputs": [],
      "source": [
        "temp_df = matches_df2.append(matches_df2)\n",
        "\n",
        "print(temp_df.shape)\n",
        "\n",
        "temp_df = temp_df.drop_duplicates()\n",
        "\n",
        "temp_df.shape"
      ]
    },
    {
      "cell_type": "markdown",
      "id": "27d1dbda",
      "metadata": {
        "id": "27d1dbda"
      },
      "source": [
        "![]('df.jpg')"
      ]
    },
    {
      "cell_type": "markdown",
      "id": "91c3ca4d",
      "metadata": {
        "id": "91c3ca4d"
      },
      "source": [
        "### Select Single Value Using loc[] vs iloc[]"
      ]
    },
    {
      "cell_type": "code",
      "execution_count": null,
      "id": "4dd81b45",
      "metadata": {
        "id": "4dd81b45"
      },
      "outputs": [],
      "source": [
        "# Select Single Row by Index\n",
        "matches_df2.iloc[[0]]"
      ]
    },
    {
      "cell_type": "code",
      "execution_count": null,
      "id": "23c2ec9b",
      "metadata": {
        "id": "23c2ec9b"
      },
      "outputs": [],
      "source": [
        "# Select Row by Index Label\n",
        "matches_df2.loc[2017]"
      ]
    },
    {
      "cell_type": "code",
      "execution_count": null,
      "id": "150ec212",
      "metadata": {
        "id": "150ec212"
      },
      "outputs": [],
      "source": [
        "# Select Single Column by label\n",
        "print(matches_df2.loc[:, \"date\"])"
      ]
    },
    {
      "cell_type": "code",
      "execution_count": null,
      "id": "c826c2a7",
      "metadata": {
        "id": "c826c2a7"
      },
      "outputs": [],
      "source": [
        "# Select Single Column by Index\n",
        "print(matches_df2.iloc[:, 3])"
      ]
    },
    {
      "cell_type": "code",
      "execution_count": null,
      "id": "e387d0af",
      "metadata": {
        "id": "e387d0af"
      },
      "outputs": [],
      "source": []
    },
    {
      "cell_type": "code",
      "execution_count": null,
      "id": "5f12f415",
      "metadata": {
        "id": "5f12f415"
      },
      "outputs": [],
      "source": []
    }
  ],
  "metadata": {
    "kernelspec": {
      "display_name": "Python 3 (ipykernel)",
      "language": "python",
      "name": "python3"
    },
    "language_info": {
      "codemirror_mode": {
        "name": "ipython",
        "version": 3
      },
      "file_extension": ".py",
      "mimetype": "text/x-python",
      "name": "python",
      "nbconvert_exporter": "python",
      "pygments_lexer": "ipython3",
      "version": "3.9.12"
    },
    "colab": {
      "provenance": [],
      "collapsed_sections": []
    }
  },
  "nbformat": 4,
  "nbformat_minor": 5
}