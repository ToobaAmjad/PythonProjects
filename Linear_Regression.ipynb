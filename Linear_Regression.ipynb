{
  "nbformat": 4,
  "nbformat_minor": 0,
  "metadata": {
    "colab": {
      "provenance": []
    },
    "kernelspec": {
      "name": "python3",
      "display_name": "Python 3"
    },
    "language_info": {
      "name": "python"
    }
  },
  "cells": [
    {
      "cell_type": "markdown",
      "source": [
        "## Step 1: Import packages and classes"
      ],
      "metadata": {
        "id": "AAMWG8ur7YIX"
      }
    },
    {
      "cell_type": "code",
      "metadata": {
        "id": "c_oydsxNbngA"
      },
      "source": [
        "import numpy as np\n",
        "from sklearn.linear_model import LinearRegression"
      ],
      "execution_count": null,
      "outputs": []
    },
    {
      "cell_type": "markdown",
      "source": [
        "## Step 2: Provide data"
      ],
      "metadata": {
        "id": "TwDTlymk7Wrv"
      }
    },
    {
      "cell_type": "code",
      "metadata": {
        "id": "yNjWcHWlbp3q"
      },
      "source": [
        "x = np.array([5, 15, 25, 35, 45, 55]).reshape((-1, 1))\n",
        "y = np.array([5, 20, 14, 32, 22, 38]).reshape((-1, 1))"
      ],
      "execution_count": null,
      "outputs": []
    },
    {
      "cell_type": "code",
      "source": [
        "x.shape"
      ],
      "metadata": {
        "colab": {
          "base_uri": "https://localhost:8080/"
        },
        "id": "yarYD-WC-nTC",
        "outputId": "6dd526c5-df00-429b-84ca-89295d9ace0b"
      },
      "execution_count": null,
      "outputs": [
        {
          "output_type": "execute_result",
          "data": {
            "text/plain": [
              "(6, 1)"
            ]
          },
          "metadata": {},
          "execution_count": 28
        }
      ]
    },
    {
      "cell_type": "markdown",
      "source": [
        "## Step 3: Create a model and fit it"
      ],
      "metadata": {
        "id": "1qBwXyVg7n0-"
      }
    },
    {
      "cell_type": "code",
      "metadata": {
        "id": "ffPUp26sekAm"
      },
      "source": [
        "model = LinearRegression().fit(x, y)"
      ],
      "execution_count": null,
      "outputs": []
    },
    {
      "cell_type": "markdown",
      "source": [
        "## Step 4: Get results"
      ],
      "metadata": {
        "id": "lRPPeZVh72Yf"
      }
    },
    {
      "cell_type": "code",
      "metadata": {
        "id": "6f_D7GTZenLG"
      },
      "source": [
        "r_sq = model.score(x, y)"
      ],
      "execution_count": null,
      "outputs": []
    },
    {
      "cell_type": "code",
      "metadata": {
        "colab": {
          "base_uri": "https://localhost:8080/"
        },
        "id": "95YlKMEueuQG",
        "outputId": "c406925b-abc5-4053-be3c-f0b0ec71597c"
      },
      "source": [
        "print('coefficient of determination:', r_sq)"
      ],
      "execution_count": null,
      "outputs": [
        {
          "output_type": "stream",
          "name": "stdout",
          "text": [
            "coefficient of determination: 0.7158756137479542\n"
          ]
        }
      ]
    },
    {
      "cell_type": "code",
      "metadata": {
        "id": "GS2nWlK1f--O",
        "colab": {
          "base_uri": "https://localhost:8080/"
        },
        "outputId": "83f63370-11d9-46d6-a953-051f3a3031df"
      },
      "source": [
        "print('intercept:', model.intercept_)"
      ],
      "execution_count": null,
      "outputs": [
        {
          "output_type": "stream",
          "name": "stdout",
          "text": [
            "intercept: [5.63333333]\n"
          ]
        }
      ]
    },
    {
      "cell_type": "code",
      "source": [
        "print('slope:', model.coef_)"
      ],
      "metadata": {
        "colab": {
          "base_uri": "https://localhost:8080/"
        },
        "id": "pVDy6o-G6vrV",
        "outputId": "4df289ac-fa92-46be-bd32-38847beed8be"
      },
      "execution_count": null,
      "outputs": [
        {
          "output_type": "stream",
          "name": "stdout",
          "text": [
            "slope: [[0.54]]\n"
          ]
        }
      ]
    },
    {
      "cell_type": "markdown",
      "source": [
        "# Step 5: Predict response"
      ],
      "metadata": {
        "id": "Wn_yOivl8BaC"
      }
    },
    {
      "cell_type": "code",
      "source": [
        "x=47\n",
        "y_pred = model.intercept_ + model.coef_ * x\n",
        "print('predicted response:', y_pred, sep='\\n')"
      ],
      "metadata": {
        "colab": {
          "base_uri": "https://localhost:8080/"
        },
        "id": "7CpeYTVl6yCV",
        "outputId": "60c3f789-9d25-4007-fc43-c9bf5fa2138f"
      },
      "execution_count": null,
      "outputs": [
        {
          "output_type": "stream",
          "name": "stdout",
          "text": [
            "predicted response:\n",
            "[[31.01333333]]\n"
          ]
        }
      ]
    },
    {
      "cell_type": "code",
      "source": [],
      "metadata": {
        "id": "8kHiPeEa65td"
      },
      "execution_count": null,
      "outputs": []
    }
  ]
}