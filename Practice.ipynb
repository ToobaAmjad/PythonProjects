{
 "cells": [
  {
   "cell_type": "code",
   "execution_count": 2,
   "id": "c6d1b1f6",
   "metadata": {},
   "outputs": [
    {
     "name": "stdout",
     "output_type": "stream",
     "text": [
      "Hello World\n"
     ]
    }
   ],
   "source": [
    "print(\"Hello World\")"
   ]
  },
  {
   "cell_type": "code",
   "execution_count": 3,
   "id": "a95871e6",
   "metadata": {},
   "outputs": [
    {
     "data": {
      "text/plain": [
       "18"
      ]
     },
     "execution_count": 3,
     "metadata": {},
     "output_type": "execute_result"
    }
   ],
   "source": [
    "9*2"
   ]
  },
  {
   "cell_type": "markdown",
   "id": "28dc4daa",
   "metadata": {},
   "source": [
    "# Phyton Basics"
   ]
  },
  {
   "cell_type": "markdown",
   "id": "53e4b0fe",
   "metadata": {},
   "source": [
    "###### tooba"
   ]
  },
  {
   "cell_type": "markdown",
   "id": "1a5261d4",
   "metadata": {},
   "source": [
    "### tooba\n"
   ]
  },
  {
   "cell_type": "code",
   "execution_count": 4,
   "id": "b6f7af82",
   "metadata": {},
   "outputs": [],
   "source": [
    "x=100"
   ]
  },
  {
   "cell_type": "code",
   "execution_count": 5,
   "id": "0a35d5ae",
   "metadata": {},
   "outputs": [],
   "source": [
    "a=22"
   ]
  },
  {
   "cell_type": "code",
   "execution_count": 7,
   "id": "01f4efa3",
   "metadata": {},
   "outputs": [],
   "source": [
    "b=x+a"
   ]
  },
  {
   "cell_type": "code",
   "execution_count": 8,
   "id": "f7a49858",
   "metadata": {},
   "outputs": [
    {
     "ename": "SyntaxError",
     "evalue": "cannot assign to literal (371911600.py, line 1)",
     "output_type": "error",
     "traceback": [
      "\u001b[1;36m  File \u001b[1;32m\"C:\\Users\\Administrator\\AppData\\Local\\Temp\\ipykernel_8024\\371911600.py\"\u001b[1;36m, line \u001b[1;32m1\u001b[0m\n\u001b[1;33m    x=100, a=10, b=x+a\u001b[0m\n\u001b[1;37m      ^\u001b[0m\n\u001b[1;31mSyntaxError\u001b[0m\u001b[1;31m:\u001b[0m cannot assign to literal\n"
     ]
    }
   ],
   "source": [
    "x=100, a=10, b=x+a"
   ]
  },
  {
   "cell_type": "code",
   "execution_count": 9,
   "id": "fdeb489f",
   "metadata": {},
   "outputs": [
    {
     "data": {
      "text/plain": [
       "int"
      ]
     },
     "execution_count": 9,
     "metadata": {},
     "output_type": "execute_result"
    }
   ],
   "source": [
    "x=12\n",
    "type(x)"
   ]
  },
  {
   "cell_type": "code",
   "execution_count": 11,
   "id": "35adedc1",
   "metadata": {},
   "outputs": [],
   "source": [
    "x=12\n",
    "b=2\n",
    "c=x+b"
   ]
  },
  {
   "cell_type": "code",
   "execution_count": 12,
   "id": "3a59b9da",
   "metadata": {},
   "outputs": [
    {
     "data": {
      "text/plain": [
       "complex"
      ]
     },
     "execution_count": 12,
     "metadata": {},
     "output_type": "execute_result"
    }
   ],
   "source": [
    "x=3+2j\n",
    "type(x)"
   ]
  },
  {
   "cell_type": "code",
   "execution_count": 13,
   "id": "73ff9ca0",
   "metadata": {},
   "outputs": [],
   "source": [
    "String1=(\"Welcome to NPower Canada\")"
   ]
  },
  {
   "cell_type": "code",
   "execution_count": 16,
   "id": "f8786077",
   "metadata": {},
   "outputs": [
    {
     "ename": "NameError",
     "evalue": "name 'String1' is not defined",
     "output_type": "error",
     "traceback": [
      "\u001b[1;31m---------------------------------------------------------------------------\u001b[0m",
      "\u001b[1;31mNameError\u001b[0m                                 Traceback (most recent call last)",
      "\u001b[1;32m~\\AppData\\Local\\Temp\\ipykernel_8024\\2308570082.py\u001b[0m in \u001b[0;36m<module>\u001b[1;34m\u001b[0m\n\u001b[1;32m----> 1\u001b[1;33m \u001b[0mprint\u001b[0m \u001b[1;33m(\u001b[0m\u001b[0mString1\u001b[0m\u001b[1;33m[\u001b[0m\u001b[1;36m0\u001b[0m\u001b[1;33m]\u001b[0m\u001b[1;33m)\u001b[0m\u001b[1;33m\u001b[0m\u001b[1;33m\u001b[0m\u001b[0m\n\u001b[0m",
      "\u001b[1;31mNameError\u001b[0m: name 'String1' is not defined"
     ]
    }
   ],
   "source": [
    "print (String1[0])"
   ]
  },
  {
   "cell_type": "code",
   "execution_count": 27,
   "id": "b68143d4",
   "metadata": {},
   "outputs": [
    {
     "name": "stdout",
     "output_type": "stream",
     "text": [
      "Welcome to Npower Canada Welcome to Npower Canada Welcome to Npower Canada Welcome to Npower Canada Welcome to Npower Canada \n",
      "5\n"
     ]
    },
    {
     "data": {
      "text/plain": [
       "'Welcome'"
      ]
     },
     "execution_count": 27,
     "metadata": {},
     "output_type": "execute_result"
    }
   ],
   "source": [
    "string1=\"Welcome to Npower Canada \" *5\n",
    "print(string1)\n",
    "a=5\n",
    "print(a)\n",
    "string1[0:7]"
   ]
  },
  {
   "cell_type": "code",
   "execution_count": 30,
   "id": "28f4d60c",
   "metadata": {},
   "outputs": [
    {
     "data": {
      "text/plain": [
       "'o'"
      ]
     },
     "execution_count": 30,
     "metadata": {},
     "output_type": "execute_result"
    }
   ],
   "source": [
    "string2=\"Welcome\"\n",
    "len(string2)\n",
    "min(string2)\n",
    "max(string2)"
   ]
  },
  {
   "cell_type": "code",
   "execution_count": 35,
   "id": "5fea11b7",
   "metadata": {},
   "outputs": [
    {
     "data": {
      "text/plain": [
       "False"
      ]
     },
     "execution_count": 35,
     "metadata": {},
     "output_type": "execute_result"
    }
   ],
   "source": [
    "string=\"Year2022\"\n",
    "string.islower()"
   ]
  },
  {
   "cell_type": "code",
   "execution_count": 38,
   "id": "93c79eb2",
   "metadata": {},
   "outputs": [
    {
     "data": {
      "text/plain": [
       "True"
      ]
     },
     "execution_count": 38,
     "metadata": {},
     "output_type": "execute_result"
    }
   ],
   "source": [
    "string=\"Welcome to Canada\"\n",
    "string.endswith(\"Canada\")"
   ]
  },
  {
   "cell_type": "code",
   "execution_count": 39,
   "id": "05d5a53c",
   "metadata": {},
   "outputs": [
    {
     "data": {
      "text/plain": [
       "False"
      ]
     },
     "execution_count": 39,
     "metadata": {},
     "output_type": "execute_result"
    }
   ],
   "source": [
    "string.startswith(\"A\")"
   ]
  },
  {
   "cell_type": "code",
   "execution_count": 40,
   "id": "3f471a88",
   "metadata": {},
   "outputs": [
    {
     "data": {
      "text/plain": [
       "3"
      ]
     },
     "execution_count": 40,
     "metadata": {},
     "output_type": "execute_result"
    }
   ],
   "source": [
    "string.count(\"a\")"
   ]
  },
  {
   "cell_type": "code",
   "execution_count": 41,
   "id": "e154020f",
   "metadata": {},
   "outputs": [
    {
     "data": {
      "text/plain": [
       "11"
      ]
     },
     "execution_count": 41,
     "metadata": {},
     "output_type": "execute_result"
    }
   ],
   "source": [
    "string.find(\"C\")"
   ]
  },
  {
   "cell_type": "code",
   "execution_count": 43,
   "id": "86e6b056",
   "metadata": {},
   "outputs": [
    {
     "data": {
      "text/plain": [
       "2"
      ]
     },
     "execution_count": 43,
     "metadata": {},
     "output_type": "execute_result"
    }
   ],
   "source": [
    "string1=\"ABC\"\n",
    "string1.find(\"C\")"
   ]
  },
  {
   "cell_type": "code",
   "execution_count": 44,
   "id": "53c7e053",
   "metadata": {},
   "outputs": [
    {
     "data": {
      "text/plain": [
       "-1"
      ]
     },
     "execution_count": 44,
     "metadata": {},
     "output_type": "execute_result"
    }
   ],
   "source": [
    "string.rfind(\"A\")"
   ]
  },
  {
   "cell_type": "code",
   "execution_count": 47,
   "id": "18e958d0",
   "metadata": {},
   "outputs": [
    {
     "data": {
      "text/plain": [
       "'Welcome to canada tooba'"
      ]
     },
     "execution_count": 47,
     "metadata": {},
     "output_type": "execute_result"
    }
   ],
   "source": [
    "string2= \"welcome to canada Tooba\"\n",
    "string2.capitalize()"
   ]
  },
  {
   "cell_type": "code",
   "execution_count": 48,
   "id": "00d5d544",
   "metadata": {},
   "outputs": [
    {
     "data": {
      "text/plain": [
       "'Abc'"
      ]
     },
     "execution_count": 48,
     "metadata": {},
     "output_type": "execute_result"
    }
   ],
   "source": [
    "string1.capitalize()"
   ]
  },
  {
   "cell_type": "code",
   "execution_count": 49,
   "id": "b9821c4e",
   "metadata": {},
   "outputs": [
    {
     "data": {
      "text/plain": [
       "'WELCOME TO CANADA tOOBA'"
      ]
     },
     "execution_count": 49,
     "metadata": {},
     "output_type": "execute_result"
    }
   ],
   "source": [
    "string2.swapcase()"
   ]
  },
  {
   "cell_type": "code",
   "execution_count": 53,
   "id": "f2231715",
   "metadata": {},
   "outputs": [
    {
     "ename": "NameError",
     "evalue": "name 'String2' is not defined",
     "output_type": "error",
     "traceback": [
      "\u001b[1;31m---------------------------------------------------------------------------\u001b[0m",
      "\u001b[1;31mNameError\u001b[0m                                 Traceback (most recent call last)",
      "\u001b[1;32m~\\AppData\\Local\\Temp\\ipykernel_8024\\481949479.py\u001b[0m in \u001b[0;36m<module>\u001b[1;34m\u001b[0m\n\u001b[1;32m----> 1\u001b[1;33m \u001b[0mString2\u001b[0m\u001b[1;33m.\u001b[0m\u001b[0mreplace\u001b[0m\u001b[1;33m(\u001b[0m\u001b[1;34m\"tooba\"\u001b[0m\u001b[1;33m,\u001b[0m\u001b[1;34m\"fatima\"\u001b[0m\u001b[1;33m)\u001b[0m\u001b[1;33m\u001b[0m\u001b[1;33m\u001b[0m\u001b[0m\n\u001b[0m",
      "\u001b[1;31mNameError\u001b[0m: name 'String2' is not defined"
     ]
    }
   ],
   "source": [
    "String2.replace(\"tooba\",\"fatima\")"
   ]
  },
  {
   "cell_type": "code",
   "execution_count": null,
   "id": "ef0215b0",
   "metadata": {},
   "outputs": [],
   "source": []
  }
 ],
 "metadata": {
  "kernelspec": {
   "display_name": "Python 3 (ipykernel)",
   "language": "python",
   "name": "python3"
  },
  "language_info": {
   "codemirror_mode": {
    "name": "ipython",
    "version": 3
   },
   "file_extension": ".py",
   "mimetype": "text/x-python",
   "name": "python",
   "nbconvert_exporter": "python",
   "pygments_lexer": "ipython3",
   "version": "3.9.13"
  }
 },
 "nbformat": 4,
 "nbformat_minor": 5
}
